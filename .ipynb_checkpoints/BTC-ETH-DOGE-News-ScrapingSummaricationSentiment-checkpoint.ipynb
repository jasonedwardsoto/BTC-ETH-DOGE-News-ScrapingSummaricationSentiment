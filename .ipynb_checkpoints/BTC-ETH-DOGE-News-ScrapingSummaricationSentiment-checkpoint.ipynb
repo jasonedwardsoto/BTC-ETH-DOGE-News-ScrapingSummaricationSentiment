{
 "cells": [
  {
   "cell_type": "markdown",
   "metadata": {},
   "source": [
    "# 1. Install and Import Baseline Dependencies"
   ]
  },
  {
   "cell_type": "code",
   "execution_count": 22,
   "metadata": {},
   "outputs": [
    {
     "name": "stdout",
     "output_type": "stream",
     "text": [
      "Requirement already satisfied: transformers in c:\\users\\moto\\anaconda3\\lib\\site-packages (4.5.1)\n",
      "Requirement already satisfied: requests in c:\\users\\moto\\anaconda3\\lib\\site-packages (from transformers) (2.25.1)\n",
      "Requirement already satisfied: tqdm>=4.27 in c:\\users\\moto\\anaconda3\\lib\\site-packages (from transformers) (4.59.0)\n",
      "Requirement already satisfied: packaging in c:\\users\\moto\\anaconda3\\lib\\site-packages (from transformers) (20.9)\n",
      "Requirement already satisfied: tokenizers<0.11,>=0.10.1 in c:\\users\\moto\\anaconda3\\lib\\site-packages (from transformers) (0.10.2)\n",
      "Requirement already satisfied: sacremoses in c:\\users\\moto\\anaconda3\\lib\\site-packages (from transformers) (0.0.45)\n",
      "Requirement already satisfied: numpy>=1.17 in c:\\users\\moto\\anaconda3\\lib\\site-packages (from transformers) (1.19.2)\n",
      "Requirement already satisfied: filelock in c:\\users\\moto\\anaconda3\\lib\\site-packages (from transformers) (3.0.12)\n",
      "Requirement already satisfied: regex!=2019.12.17 in c:\\users\\moto\\anaconda3\\lib\\site-packages (from transformers) (2021.3.17)\n",
      "Requirement already satisfied: pyparsing>=2.0.2 in c:\\users\\moto\\anaconda3\\lib\\site-packages (from packaging->transformers) (2.4.7)\n",
      "Requirement already satisfied: chardet<5,>=3.0.2 in c:\\users\\moto\\anaconda3\\lib\\site-packages (from requests->transformers) (4.0.0)\n",
      "Requirement already satisfied: idna<3,>=2.5 in c:\\users\\moto\\anaconda3\\lib\\site-packages (from requests->transformers) (2.10)\n",
      "Requirement already satisfied: urllib3<1.27,>=1.21.1 in c:\\users\\moto\\anaconda3\\lib\\site-packages (from requests->transformers) (1.26.4)\n",
      "Requirement already satisfied: certifi>=2017.4.17 in c:\\users\\moto\\anaconda3\\lib\\site-packages (from requests->transformers) (2020.12.5)\n",
      "Requirement already satisfied: six in c:\\users\\moto\\anaconda3\\lib\\site-packages (from sacremoses->transformers) (1.15.0)\n",
      "Requirement already satisfied: click in c:\\users\\moto\\anaconda3\\lib\\site-packages (from sacremoses->transformers) (7.1.2)\n",
      "Requirement already satisfied: joblib in c:\\users\\moto\\anaconda3\\lib\\site-packages (from sacremoses->transformers) (1.0.1)\n"
     ]
    }
   ],
   "source": [
    "!pip install transformers"
   ]
  },
  {
   "cell_type": "code",
   "execution_count": 23,
   "metadata": {},
   "outputs": [],
   "source": [
    "from transformers import PegasusTokenizer, PegasusForConditionalGeneration\n",
    "from bs4 import BeautifulSoup\n",
    "import requests"
   ]
  },
  {
   "cell_type": "markdown",
   "metadata": {},
   "source": [
    "# 2. Setup Summarization Model"
   ]
  },
  {
   "cell_type": "code",
   "execution_count": 24,
   "metadata": {},
   "outputs": [],
   "source": [
    "model_name = \"human-centered-summarization/financial-summarization-pegasus\"\n",
    "tokenizer = PegasusTokenizer.from_pretrained(model_name)\n",
    "model = PegasusForConditionalGeneration.from_pretrained(model_name)"
   ]
  },
  {
   "cell_type": "markdown",
   "metadata": {},
   "source": [
    "# 3. Summarize a Single Article"
   ]
  },
  {
   "cell_type": "code",
   "execution_count": 25,
   "metadata": {},
   "outputs": [],
   "source": [
    "url = \"https://au.finance.yahoo.com/news/china-restricting-tesla-use-uncovers-a-significant-challenge-for-elon-musk-expert-161921664.html\"\n",
    "r = requests.get(url)\n",
    "soup = BeautifulSoup(r.text, 'html.parser')\n",
    "paragraphs = soup.find_all('p')"
   ]
  },
  {
   "cell_type": "code",
   "execution_count": 26,
   "metadata": {},
   "outputs": [
    {
     "data": {
      "text/plain": [
       "\"Stay informed every day with Yahoo Finance's free Fully Briefed newsletter.\""
      ]
     },
     "execution_count": 26,
     "metadata": {},
     "output_type": "execute_result"
    }
   ],
   "source": [
    "paragraphs[0].text"
   ]
  },
  {
   "cell_type": "code",
   "execution_count": 27,
   "metadata": {},
   "outputs": [],
   "source": [
    "text = [paragraph.text for paragraph in paragraphs]\n",
    "words = ' '.join(text).split(' ')[:400]\n",
    "ARTICLE = ' '.join(words)"
   ]
  },
  {
   "cell_type": "code",
   "execution_count": 28,
   "metadata": {},
   "outputs": [
    {
     "data": {
      "text/plain": [
       "'Stay informed every day with Yahoo Finance\\'s free Fully Briefed newsletter. Renewed political tensions between the U.S. and China — which came to light this week as the Biden administration sat down with their Chinese counterparts for the first time to discuss a range of issues — could ensnarl vehicle maker Tesla (TSLA), which has pushed successfully into China in recent years. In fact, the heightened rhetoric between the two super economic superpowers may have already had blowback on Elon Musk\\'s electric car company. The Chinese government is restricting the use of Tesla vehicles by military staff and employees of vital state-owned companies, The Wall Street Journal reported Friday. Chinese officials reportedly have concerns that Tesla\\'s cars — outfitted with various data collecting capabilities — could serve as leakers of national security secrets. \"I have been saying for months now that Tesla\\'s level of integration of their business, of their research, of their sort of geo-tracking for which there is integration with Chinese maps, their development of A.I. with Chinese firms, and electric battery technology that\\'s not sustainable in China given the trajectory [on policy] that we are now on,\" policy expert and Eurasia Group founder Ian Bremmer said on Yahoo Finance Live. \"Most American A.I. and technology companies are seen as critical for national security, they don\\'t have access in China — companies like Amazon, Google and Facebook. Tesla is the outlier.\" That outlier status has made China an incredibly important market for Tesla, and a key part of the investment thesis in the stock. Tesla\\'s sales in China clocked in at $6.66 billion in 2020, up 123% from a year earlier powered by strength in the Model 3. The business made up about 21% of Tesla\\'s overall 2020 sales. Tesla began deliveries of its China-made Model Y to Chinese consumers earlier this year. Bremmer warns Tesla now has a challenging road ahead in China in light of the recent development by the military. Musk\\'s response to the Chinese actions are important for investors to watch, suggests Bremmer. \"At a moment of some white knuckle tensions between the U.S. and China, Musk & Co. find themselves in a unique position (along with Apple) of being caught in the crossfire,\" Wedbush tech analyst Dan Ives said. Tesla shares fell about 2% on the report, as investors pondered if China will take a harder line on Tesla\\'s sales to consumers. \"One'"
      ]
     },
     "execution_count": 28,
     "metadata": {},
     "output_type": "execute_result"
    }
   ],
   "source": [
    "ARTICLE"
   ]
  },
  {
   "cell_type": "code",
   "execution_count": 29,
   "metadata": {},
   "outputs": [],
   "source": [
    "input_ids = tokenizer.encode(ARTICLE, return_tensors='pt')\n",
    "output = model.generate(input_ids, max_length=55, num_beams=5, early_stopping=True)\n",
    "summary = tokenizer.decode(output[0], skip_special_tokens=True)"
   ]
  },
  {
   "cell_type": "code",
   "execution_count": 30,
   "metadata": {},
   "outputs": [
    {
     "data": {
      "text/plain": [
       "'China restricting use of electric cars by military. Tesla has been successful in China in recent years'"
      ]
     },
     "execution_count": 30,
     "metadata": {},
     "output_type": "execute_result"
    }
   ],
   "source": [
    "summary"
   ]
  },
  {
   "cell_type": "markdown",
   "metadata": {},
   "source": [
    "# 4. Building a News and Sentiment Pipeline"
   ]
  },
  {
   "cell_type": "code",
   "execution_count": 31,
   "metadata": {},
   "outputs": [],
   "source": [
    "monitored_tickers = ['DOGE', 'ETH', 'BTC']"
   ]
  },
  {
   "cell_type": "markdown",
   "metadata": {},
   "source": [
    "## 4.1. Search for Stock News using Google and Yahoo Finance"
   ]
  },
  {
   "cell_type": "code",
   "execution_count": 32,
   "metadata": {},
   "outputs": [],
   "source": [
    "def search_for_stock_news_urls(ticker):\n",
    "    search_url = \"https://www.google.com/search?q={}&tbm=nws\".format(ticker)\n",
    "    r = requests.get(search_url)\n",
    "    soup = BeautifulSoup(r.text, 'html.parser')\n",
    "    atags = soup.find_all('a')\n",
    "    hrefs = [link['href'] for link in atags]\n",
    "    return hrefs "
   ]
  },
  {
   "cell_type": "code",
   "execution_count": 33,
   "metadata": {},
   "outputs": [
    {
     "data": {
      "text/plain": [
       "{'DOGE': ['/?sa=X&ved=0ahUKEwi6iO-826vwAhX-HLkGHXJyDj8QOwgC',\n",
       "  '/?output=search&ie=UTF-8&tbm=nws&sa=X&ved=0ahUKEwi6iO-826vwAhX-HLkGHXJyDj8QPAgE',\n",
       "  '/search?q=DOGE&tbm=nws&ie=UTF-8&gbv=1&sei=JPuOYLrmBv655OUP8uS5-AM',\n",
       "  '/search?q=DOGE&ie=UTF-8&source=lnms&sa=X&ved=0ahUKEwi6iO-826vwAhX-HLkGHXJyDj8Q_AUIBygA',\n",
       "  '/search?q=DOGE&ie=UTF-8&tbm=isch&source=lnms&sa=X&ved=0ahUKEwi6iO-826vwAhX-HLkGHXJyDj8Q_AUICSgC',\n",
       "  '/search?q=DOGE&ie=UTF-8&tbm=bks&source=lnms&sa=X&ved=0ahUKEwi6iO-826vwAhX-HLkGHXJyDj8Q_AUICigD',\n",
       "  'https://maps.google.com/maps?q=DOGE&um=1&ie=UTF-8&sa=X&ved=0ahUKEwi6iO-826vwAhX-HLkGHXJyDj8Q_AUICygE',\n",
       "  '/search?q=DOGE&ie=UTF-8&tbm=vid&source=lnms&sa=X&ved=0ahUKEwi6iO-826vwAhX-HLkGHXJyDj8Q_AUIDCgF',\n",
       "  '/search?q=DOGE&ie=UTF-8&tbm=shop&source=lnms&sa=X&ved=0ahUKEwi6iO-826vwAhX-HLkGHXJyDj8Q_AUIDSgG',\n",
       "  '/advanced_search',\n",
       "  '/search?q=DOGE&ie=UTF-8&tbm=nws&source=lnt&tbs=qdr:h&sa=X&ved=0ahUKEwi6iO-826vwAhX-HLkGHXJyDj8QpwUIDw',\n",
       "  '/search?q=DOGE&ie=UTF-8&tbm=nws&source=lnt&tbs=qdr:d&sa=X&ved=0ahUKEwi6iO-826vwAhX-HLkGHXJyDj8QpwUIEA',\n",
       "  '/search?q=DOGE&ie=UTF-8&tbm=nws&source=lnt&tbs=qdr:w&sa=X&ved=0ahUKEwi6iO-826vwAhX-HLkGHXJyDj8QpwUIEQ',\n",
       "  '/search?q=DOGE&ie=UTF-8&tbm=nws&source=lnt&tbs=qdr:m&sa=X&ved=0ahUKEwi6iO-826vwAhX-HLkGHXJyDj8QpwUIEg',\n",
       "  '/search?q=DOGE&ie=UTF-8&tbm=nws&source=lnt&tbs=qdr:y&sa=X&ved=0ahUKEwi6iO-826vwAhX-HLkGHXJyDj8QpwUIEw',\n",
       "  '/search?q=DOGE&ie=UTF-8&tbm=nws&source=lnt&tbs=ar:1&sa=X&ved=0ahUKEwi6iO-826vwAhX-HLkGHXJyDj8QpwUIFA',\n",
       "  '/search?q=DOGE&ie=UTF-8&tbm=nws&source=lnt&tbs=sbd:1&sa=X&ved=0ahUKEwi6iO-826vwAhX-HLkGHXJyDj8QpwUIFg',\n",
       "  '/url?q=https://finance.yahoo.com/news/dogecoin-dead-elon-musk-mark-194114001.html&sa=U&ved=2ahUKEwi6iO-826vwAhX-HLkGHXJyDj8QxfQBMAB6BAgDEAE&usg=AOvVaw197f-u7J9VD2zfPipyJvmV',\n",
       "  '/url?q=https://finance.yahoo.com/news/dogecoin-dead-elon-musk-mark-194114001.html&sa=U&ved=2ahUKEwi6iO-826vwAhX-HLkGHXJyDj8Q0Y8FMAB6BAgDEAI&usg=AOvVaw0MWH3JQ-E903MR9BfSE7iE',\n",
       "  '/url?q=https://www.forbes.com/sites/billybambrough/2021/05/01/ethereum-is-suddenly-rocketing-but-dogecoin-is-still-the-crypto-price-king/&sa=U&ved=2ahUKEwi6iO-826vwAhX-HLkGHXJyDj8QxfQBMAF6BAgIEAE&usg=AOvVaw0pgrL2QbP4qU17PZ47w11x',\n",
       "  '/url?q=https://www.forbes.com/sites/billybambrough/2021/05/01/ethereum-is-suddenly-rocketing-but-dogecoin-is-still-the-crypto-price-king/&sa=U&ved=2ahUKEwi6iO-826vwAhX-HLkGHXJyDj8Q0Y8FMAF6BAgIEAI&usg=AOvVaw2PRMHgFlfXzgubSahHP5rm',\n",
       "  '/url?q=https://www.benzinga.com/markets/cryptocurrency/21/05/20827000/could-elon-musks-snl-hosting-cause-a-bump-in-tesla-or-dogecoin&sa=U&ved=2ahUKEwi6iO-826vwAhX-HLkGHXJyDj8QxfQBMAJ6BAgJEAE&usg=AOvVaw1MiXNaLrHrsTPrIn7A-Acc',\n",
       "  '/url?q=https://www.benzinga.com/markets/cryptocurrency/21/05/20827000/could-elon-musks-snl-hosting-cause-a-bump-in-tesla-or-dogecoin&sa=U&ved=2ahUKEwi6iO-826vwAhX-HLkGHXJyDj8Q0Y8FMAJ6BAgJEAI&usg=AOvVaw3hw7taFmw-m84VZJOp4r-X',\n",
       "  '/url?q=https://www.deseret.com/u-s-world/2021/4/29/22409512/dogecoin-all-time-high-record&sa=U&ved=2ahUKEwi6iO-826vwAhX-HLkGHXJyDj8QxfQBMAN6BAgHEAE&usg=AOvVaw3ZVNpoWGq0WrAMopwQZNbB',\n",
       "  '/url?q=https://www.deseret.com/u-s-world/2021/4/29/22409512/dogecoin-all-time-high-record&sa=U&ved=2ahUKEwi6iO-826vwAhX-HLkGHXJyDj8Q0Y8FMAN6BAgHEAI&usg=AOvVaw2DWHbANP-g6kd8_Sj-VtZR',\n",
       "  '/url?q=https://www.benzinga.com/markets/cryptocurrency/21/05/20904133/how-is-doge-looking-a-week-away-from-elon-musks-may-8-saturday-night-live-appearance&sa=U&ved=2ahUKEwi6iO-826vwAhX-HLkGHXJyDj8QxfQBMAR6BAgBEAE&usg=AOvVaw3Lfwr0K80FGWuLwknsDxRU',\n",
       "  '/url?q=https://www.benzinga.com/markets/cryptocurrency/21/05/20904133/how-is-doge-looking-a-week-away-from-elon-musks-may-8-saturday-night-live-appearance&sa=U&ved=2ahUKEwi6iO-826vwAhX-HLkGHXJyDj8Q0Y8FMAR6BAgBEAI&usg=AOvVaw28IABiKuafU6yoNmfI0QSl',\n",
       "  '/url?q=https://markets.businessinsider.com/currencies/news/mike-novogratz-xrp-ripple-dogecoin-bitcoin-insurance-crypto-investments-2021-4-1030373300&sa=U&ved=2ahUKEwi6iO-826vwAhX-HLkGHXJyDj8QxfQBMAV6BAgEEAE&usg=AOvVaw2rpKFo7csAtmjjzKP0Z8mj',\n",
       "  '/url?q=https://markets.businessinsider.com/currencies/news/mike-novogratz-xrp-ripple-dogecoin-bitcoin-insurance-crypto-investments-2021-4-1030373300&sa=U&ved=2ahUKEwi6iO-826vwAhX-HLkGHXJyDj8Q0Y8FMAV6BAgEEAI&usg=AOvVaw0WCqR9iwWZdTqtW4KaF0KZ',\n",
       "  '/url?q=https://www.deseret.com/u-s-world/2021/4/30/22409494/dogecoin-stable-investment-price&sa=U&ved=2ahUKEwi6iO-826vwAhX-HLkGHXJyDj8QxfQBMAZ6BAgFEAE&usg=AOvVaw1tHMxpbYud6nDtc0qA8YTm',\n",
       "  '/url?q=https://www.deseret.com/u-s-world/2021/4/30/22409494/dogecoin-stable-investment-price&sa=U&ved=2ahUKEwi6iO-826vwAhX-HLkGHXJyDj8Q0Y8FMAZ6BAgFEAI&usg=AOvVaw0FxFnq2PFsFLKx5D6eDChf',\n",
       "  '/url?q=https://www.coindesk.com/dogecoin-federal-reserve-chairman-jerome-powell-capital-markets&sa=U&ved=2ahUKEwi6iO-826vwAhX-HLkGHXJyDj8QxfQBMAd6BAgCEAE&usg=AOvVaw1cGgyNJqsColDbLUTgCqjR',\n",
       "  '/url?q=https://www.coindesk.com/dogecoin-federal-reserve-chairman-jerome-powell-capital-markets&sa=U&ved=2ahUKEwi6iO-826vwAhX-HLkGHXJyDj8Q0Y8FMAd6BAgCEAI&usg=AOvVaw3BjdiV4XSTZLN2Y6q3xKxK',\n",
       "  '/url?q=https://www.fool.com/investing/2021/04/29/5-reasons-to-avoid-dogecoin-like-the-plague/&sa=U&ved=2ahUKEwi6iO-826vwAhX-HLkGHXJyDj8QxfQBMAh6BAgGEAE&usg=AOvVaw1c3sVzkW6JWV3sFL5Nn_NL',\n",
       "  '/url?q=https://www.fool.com/investing/2021/04/29/5-reasons-to-avoid-dogecoin-like-the-plague/&sa=U&ved=2ahUKEwi6iO-826vwAhX-HLkGHXJyDj8Q0Y8FMAh6BAgGEAI&usg=AOvVaw2jbLGEfzVLZkzKlQZ4eAoP',\n",
       "  '/url?q=https://www.deseret.com/2021/5/1/22411726/dogecoin-mark-cuban-investment-prediction&sa=U&ved=2ahUKEwi6iO-826vwAhX-HLkGHXJyDj8QxfQBMAl6BAgAEAE&usg=AOvVaw39Il3DsTEi2HN1jKoYS7EK',\n",
       "  '/url?q=https://www.deseret.com/2021/5/1/22411726/dogecoin-mark-cuban-investment-prediction&sa=U&ved=2ahUKEwi6iO-826vwAhX-HLkGHXJyDj8Q0Y8FMAl6BAgAEAI&usg=AOvVaw2Qb8YdAOOZO_U5i1Bzsxe4',\n",
       "  '/search?q=DOGE&ie=UTF-8&tbm=nws&ei=JPuOYLrmBv655OUP8uS5-AM&start=10&sa=N',\n",
       "  '/url?q=https://support.google.com/websearch%3Fp%3Dws_settings_location%26hl%3Den&sa=U&ved=0ahUKEwi6iO-826vwAhX-HLkGHXJyDj8Qty4IVQ&usg=AOvVaw3EqUwwKZ7SUuDwwHu8q8F4',\n",
       "  '/url?q=https://accounts.google.com/ServiceLogin%3Fcontinue%3Dhttps://www.google.com/search%253Fq%253DDOGE%2526tbm%253Dnws%26hl%3Den&sa=U&ved=0ahUKEwi6iO-826vwAhX-HLkGHXJyDj8Qxs8CCFY&usg=AOvVaw1BNLSZFzyTt5IDqOfNy4T8',\n",
       "  'https://www.google.com/preferences?hl=en&fg=1&sa=X&ved=0ahUKEwi6iO-826vwAhX-HLkGHXJyDj8Q5fUCCFc',\n",
       "  'https://policies.google.com/privacy?hl=en&fg=1',\n",
       "  'https://policies.google.com/terms?hl=en&fg=1'],\n",
       " 'ETH': ['/?sa=X&ved=0ahUKEwimvJi926vwAhUtGLkGHRNgCLIQOwgC',\n",
       "  '/?output=search&ie=UTF-8&tbm=nws&sa=X&ved=0ahUKEwimvJi926vwAhUtGLkGHRNgCLIQPAgE',\n",
       "  '/search?q=ETH&tbm=nws&ie=UTF-8&gbv=1&sei=JPuOYKaaMK2w5OUPk8ChkAs',\n",
       "  '/search?q=ETH&ie=UTF-8&source=lnms&sa=X&ved=0ahUKEwimvJi926vwAhUtGLkGHRNgCLIQ_AUIBygA',\n",
       "  '/search?q=ETH&ie=UTF-8&tbm=vid&source=lnms&sa=X&ved=0ahUKEwimvJi926vwAhUtGLkGHRNgCLIQ_AUICSgC',\n",
       "  '/search?q=ETH&ie=UTF-8&tbm=isch&source=lnms&sa=X&ved=0ahUKEwimvJi926vwAhUtGLkGHRNgCLIQ_AUICigD',\n",
       "  'https://maps.google.com/maps?q=ETH&um=1&ie=UTF-8&sa=X&ved=0ahUKEwimvJi926vwAhUtGLkGHRNgCLIQ_AUICygE',\n",
       "  '/search?q=ETH&ie=UTF-8&tbm=shop&source=lnms&sa=X&ved=0ahUKEwimvJi926vwAhUtGLkGHRNgCLIQ_AUIDCgF',\n",
       "  '/search?q=ETH&ie=UTF-8&tbm=bks&source=lnms&sa=X&ved=0ahUKEwimvJi926vwAhUtGLkGHRNgCLIQ_AUIDSgG',\n",
       "  '/advanced_search',\n",
       "  '/search?q=ETH&ie=UTF-8&tbm=nws&source=lnt&tbs=qdr:h&sa=X&ved=0ahUKEwimvJi926vwAhUtGLkGHRNgCLIQpwUIDw',\n",
       "  '/search?q=ETH&ie=UTF-8&tbm=nws&source=lnt&tbs=qdr:d&sa=X&ved=0ahUKEwimvJi926vwAhUtGLkGHRNgCLIQpwUIEA',\n",
       "  '/search?q=ETH&ie=UTF-8&tbm=nws&source=lnt&tbs=qdr:w&sa=X&ved=0ahUKEwimvJi926vwAhUtGLkGHRNgCLIQpwUIEQ',\n",
       "  '/search?q=ETH&ie=UTF-8&tbm=nws&source=lnt&tbs=qdr:m&sa=X&ved=0ahUKEwimvJi926vwAhUtGLkGHRNgCLIQpwUIEg',\n",
       "  '/search?q=ETH&ie=UTF-8&tbm=nws&source=lnt&tbs=qdr:y&sa=X&ved=0ahUKEwimvJi926vwAhUtGLkGHRNgCLIQpwUIEw',\n",
       "  '/search?q=ETH&ie=UTF-8&tbm=nws&source=lnt&tbs=ar:1&sa=X&ved=0ahUKEwimvJi926vwAhUtGLkGHRNgCLIQpwUIFA',\n",
       "  '/search?q=ETH&ie=UTF-8&tbm=nws&source=lnt&tbs=sbd:1&sa=X&ved=0ahUKEwimvJi926vwAhUtGLkGHRNgCLIQpwUIFg',\n",
       "  '/url?q=https://www.cnn.com/2021/05/01/investing/ethereum-bitcoin-record-high/index.html&sa=U&ved=2ahUKEwimvJi926vwAhUtGLkGHRNgCLIQxfQBMAB6BAgFEAE&usg=AOvVaw2wo5SSchmylijnAqVaBFMM',\n",
       "  '/url?q=https://www.cnn.com/2021/05/01/investing/ethereum-bitcoin-record-high/index.html&sa=U&ved=2ahUKEwimvJi926vwAhUtGLkGHRNgCLIQ0Y8FMAB6BAgFEAI&usg=AOvVaw2KWkjGeIIjT2jgBXaWEJvA',\n",
       "  '/url?q=https://www.coindesk.com/ether-price-target-10k-fundstrat&sa=U&ved=2ahUKEwimvJi926vwAhUtGLkGHRNgCLIQxfQBMAF6BAgIEAE&usg=AOvVaw0r7Qnm3txD7-fmSAfRLFv3',\n",
       "  '/url?q=https://www.coindesk.com/ether-price-target-10k-fundstrat&sa=U&ved=2ahUKEwimvJi926vwAhUtGLkGHRNgCLIQ0Y8FMAF6BAgIEAI&usg=AOvVaw1Ou72FRUY_5FI7ZfHNK3ZS',\n",
       "  '/url?q=https://www.forbes.com/sites/billybambrough/2021/05/01/ethereum-is-suddenly-rocketing-but-dogecoin-is-still-the-crypto-price-king/&sa=U&ved=2ahUKEwimvJi926vwAhUtGLkGHRNgCLIQxfQBMAJ6BAgJEAE&usg=AOvVaw3sqlR79wT55x95wTtL2lGN',\n",
       "  '/url?q=https://www.forbes.com/sites/billybambrough/2021/05/01/ethereum-is-suddenly-rocketing-but-dogecoin-is-still-the-crypto-price-king/&sa=U&ved=2ahUKEwimvJi926vwAhUtGLkGHRNgCLIQ0Y8FMAJ6BAgJEAI&usg=AOvVaw3TZu4uD1TePgRezf-maDrW',\n",
       "  '/url?q=https://finance.yahoo.com/news/ethereum-litecoin-ripple-xrp-daily-001639450.html&sa=U&ved=2ahUKEwimvJi926vwAhUtGLkGHRNgCLIQxfQBMAN6BAgHEAE&usg=AOvVaw21o6GkI-34MKiHLmxe42SV',\n",
       "  '/url?q=https://finance.yahoo.com/news/ethereum-litecoin-ripple-xrp-daily-001639450.html&sa=U&ved=2ahUKEwimvJi926vwAhUtGLkGHRNgCLIQ0Y8FMAN6BAgHEAI&usg=AOvVaw3Z3aOTWFey5W_J52eF4ObF',\n",
       "  '/url?q=https://www.benzinga.com/markets/cryptocurrency/21/04/20881404/polygon-matic-hits-all-time-high-ethereum-retreats-and-dogecoin-finds-stability-since-musk&sa=U&ved=2ahUKEwimvJi926vwAhUtGLkGHRNgCLIQxfQBMAR6BAgCEAE&usg=AOvVaw3qQKjExa_y8DRyZKhRHiJc',\n",
       "  '/url?q=https://www.benzinga.com/markets/cryptocurrency/21/04/20881404/polygon-matic-hits-all-time-high-ethereum-retreats-and-dogecoin-finds-stability-since-musk&sa=U&ved=2ahUKEwimvJi926vwAhUtGLkGHRNgCLIQ0Y8FMAR6BAgCEAI&usg=AOvVaw1EUKYwyDIhVC1e-TQqdwQ8',\n",
       "  '/url?q=https://finance.yahoo.com/news/ethereum-price-surge-know-decide-110011253.html&sa=U&ved=2ahUKEwimvJi926vwAhUtGLkGHRNgCLIQxfQBMAV6BAgDEAE&usg=AOvVaw0dh1LjybW49BpGRPSp4dER',\n",
       "  '/url?q=https://finance.yahoo.com/news/ethereum-price-surge-know-decide-110011253.html&sa=U&ved=2ahUKEwimvJi926vwAhUtGLkGHRNgCLIQ0Y8FMAV6BAgDEAI&usg=AOvVaw3uF_V4QvRjgQgl3loqgWLt',\n",
       "  '/url?q=https://www.theverge.com/2021/4/29/22409838/nvidia-rtx-3060-etherium-cryptocurrency-mining-limit-back-driver-update&sa=U&ved=2ahUKEwimvJi926vwAhUtGLkGHRNgCLIQxfQBMAZ6BAgEEAE&usg=AOvVaw2LK8gxplw8GG2UEZBcpRcl',\n",
       "  '/url?q=https://www.theverge.com/2021/4/29/22409838/nvidia-rtx-3060-etherium-cryptocurrency-mining-limit-back-driver-update&sa=U&ved=2ahUKEwimvJi926vwAhUtGLkGHRNgCLIQ0Y8FMAZ6BAgEEAI&usg=AOvVaw01bcbTfc1Kq_uIdyLm8aaA',\n",
       "  '/url?q=https://www.cnbc.com/2021/04/29/bitcoin-btc-ethereum-eth-cryptocurrency-price-hits-record-high.html&sa=U&ved=2ahUKEwimvJi926vwAhUtGLkGHRNgCLIQxfQBMAd6BAgGEAE&usg=AOvVaw3hXDmffvPa7Edk4dXqG65N',\n",
       "  '/url?q=https://www.cnbc.com/2021/04/29/bitcoin-btc-ethereum-eth-cryptocurrency-price-hits-record-high.html&sa=U&ved=2ahUKEwimvJi926vwAhUtGLkGHRNgCLIQ0Y8FMAd6BAgGEAI&usg=AOvVaw0wB06UBfEvhlidLySz98tp',\n",
       "  '/url?q=https://www.coindesk.com/market-wrap-bitcoin-57k-expirations-ether-steadies&sa=U&ved=2ahUKEwimvJi926vwAhUtGLkGHRNgCLIQxfQBMAh6BAgAEAE&usg=AOvVaw3o2RP7x0WNnRyd30LGpt8E',\n",
       "  '/url?q=https://www.coindesk.com/market-wrap-bitcoin-57k-expirations-ether-steadies&sa=U&ved=2ahUKEwimvJi926vwAhUtGLkGHRNgCLIQ0Y8FMAh6BAgAEAI&usg=AOvVaw3sNWFPHT4yl9n17U5bgU2X',\n",
       "  '/url?q=https://finance.yahoo.com/news/binance-smart-chain-defi-tvl-133100709.html&sa=U&ved=2ahUKEwimvJi926vwAhUtGLkGHRNgCLIQxfQBMAl6BAgBEAE&usg=AOvVaw0c-uiPgwHBdIY3dP9B6_GN',\n",
       "  '/url?q=https://finance.yahoo.com/news/binance-smart-chain-defi-tvl-133100709.html&sa=U&ved=2ahUKEwimvJi926vwAhUtGLkGHRNgCLIQ0Y8FMAl6BAgBEAI&usg=AOvVaw288BSyqChvmBypkk74Rl1E',\n",
       "  '/search?q=ETH&ie=UTF-8&tbm=nws&ei=JPuOYKaaMK2w5OUPk8ChkAs&start=10&sa=N',\n",
       "  '/url?q=https://support.google.com/websearch%3Fp%3Dws_settings_location%26hl%3Den&sa=U&ved=0ahUKEwimvJi926vwAhUtGLkGHRNgCLIQty4IVQ&usg=AOvVaw1rOhTmFUGmHep6vjH2XUB3',\n",
       "  '/url?q=https://accounts.google.com/ServiceLogin%3Fcontinue%3Dhttps://www.google.com/search%253Fq%253DETH%2526tbm%253Dnws%26hl%3Den&sa=U&ved=0ahUKEwimvJi926vwAhUtGLkGHRNgCLIQxs8CCFY&usg=AOvVaw2_RV5RmIAYEG_mnEz5u8TJ',\n",
       "  'https://www.google.com/preferences?hl=en&fg=1&sa=X&ved=0ahUKEwimvJi926vwAhUtGLkGHRNgCLIQ5fUCCFc',\n",
       "  'https://policies.google.com/privacy?hl=en&fg=1',\n",
       "  'https://policies.google.com/terms?hl=en&fg=1'],\n",
       " 'BTC': ['/?sa=X&ved=0ahUKEwiCmc-926vwAhXRGbkGHU23CV8QOwgC',\n",
       "  '/?output=search&ie=UTF-8&tbm=nws&sa=X&ved=0ahUKEwiCmc-926vwAhXRGbkGHU23CV8QPAgE',\n",
       "  '/search?q=BTC&tbm=nws&ie=UTF-8&gbv=1&sei=JfuOYMLyKdGz5OUPze6m-AU',\n",
       "  '/search?q=BTC&ie=UTF-8&source=lnms&sa=X&ved=0ahUKEwiCmc-926vwAhXRGbkGHU23CV8Q_AUIBygA',\n",
       "  '/search?q=BTC&ie=UTF-8&tbm=vid&source=lnms&sa=X&ved=0ahUKEwiCmc-926vwAhXRGbkGHU23CV8Q_AUICSgC',\n",
       "  '/search?q=BTC&ie=UTF-8&tbm=bks&source=lnms&sa=X&ved=0ahUKEwiCmc-926vwAhXRGbkGHU23CV8Q_AUICigD',\n",
       "  '/search?q=BTC&ie=UTF-8&tbm=isch&source=lnms&sa=X&ved=0ahUKEwiCmc-926vwAhXRGbkGHU23CV8Q_AUICygE',\n",
       "  'https://maps.google.com/maps?q=BTC&um=1&ie=UTF-8&sa=X&ved=0ahUKEwiCmc-926vwAhXRGbkGHU23CV8Q_AUIDCgF',\n",
       "  '/search?q=BTC&ie=UTF-8&tbm=shop&source=lnms&sa=X&ved=0ahUKEwiCmc-926vwAhXRGbkGHU23CV8Q_AUIDSgG',\n",
       "  '/advanced_search',\n",
       "  '/search?q=BTC&ie=UTF-8&tbm=nws&source=lnt&tbs=qdr:h&sa=X&ved=0ahUKEwiCmc-926vwAhXRGbkGHU23CV8QpwUIDw',\n",
       "  '/search?q=BTC&ie=UTF-8&tbm=nws&source=lnt&tbs=qdr:d&sa=X&ved=0ahUKEwiCmc-926vwAhXRGbkGHU23CV8QpwUIEA',\n",
       "  '/search?q=BTC&ie=UTF-8&tbm=nws&source=lnt&tbs=qdr:w&sa=X&ved=0ahUKEwiCmc-926vwAhXRGbkGHU23CV8QpwUIEQ',\n",
       "  '/search?q=BTC&ie=UTF-8&tbm=nws&source=lnt&tbs=qdr:m&sa=X&ved=0ahUKEwiCmc-926vwAhXRGbkGHU23CV8QpwUIEg',\n",
       "  '/search?q=BTC&ie=UTF-8&tbm=nws&source=lnt&tbs=qdr:y&sa=X&ved=0ahUKEwiCmc-926vwAhXRGbkGHU23CV8QpwUIEw',\n",
       "  '/search?q=BTC&ie=UTF-8&tbm=nws&source=lnt&tbs=ar:1&sa=X&ved=0ahUKEwiCmc-926vwAhXRGbkGHU23CV8QpwUIFA',\n",
       "  '/search?q=BTC&ie=UTF-8&tbm=nws&source=lnt&tbs=sbd:1&sa=X&ved=0ahUKEwiCmc-926vwAhXRGbkGHU23CV8QpwUIFg',\n",
       "  '/url?q=https://www.cnn.com/2021/05/01/investing/ethereum-bitcoin-record-high/index.html&sa=U&ved=2ahUKEwiCmc-926vwAhXRGbkGHU23CV8QxfQBMAB6BAgEEAE&usg=AOvVaw0Uh5JSOBLg0DI90l7FgVA2',\n",
       "  '/url?q=https://www.cnn.com/2021/05/01/investing/ethereum-bitcoin-record-high/index.html&sa=U&ved=2ahUKEwiCmc-926vwAhXRGbkGHU23CV8Q0Y8FMAB6BAgEEAI&usg=AOvVaw2qnnY9PrhP6JLJpclJV_1-',\n",
       "  '/url?q=https://www.cnbc.com/2021/05/01/charlie-munger-calls-bitcoin-disgusting-and-contrary-to-the-interests-of-civilization.html&sa=U&ved=2ahUKEwiCmc-926vwAhXRGbkGHU23CV8QxfQBMAF6BAgHEAE&usg=AOvVaw3R7gdTFF-WT4yF4ga1xywo',\n",
       "  '/url?q=https://www.cnbc.com/2021/05/01/charlie-munger-calls-bitcoin-disgusting-and-contrary-to-the-interests-of-civilization.html&sa=U&ved=2ahUKEwiCmc-926vwAhXRGbkGHU23CV8Q0Y8FMAF6BAgHEAI&usg=AOvVaw1LIgZt9x--p9y7pC_RH4nd',\n",
       "  '/url?q=https://fortune.com/2021/05/02/bitcoin-mining-hashrate-china-inner-mongolia-ban/&sa=U&ved=2ahUKEwiCmc-926vwAhXRGbkGHU23CV8QxfQBMAJ6BAgJEAE&usg=AOvVaw3IrMgDoCfrJX6zs45cO8Hf',\n",
       "  '/url?q=https://fortune.com/2021/05/02/bitcoin-mining-hashrate-china-inner-mongolia-ban/&sa=U&ved=2ahUKEwiCmc-926vwAhXRGbkGHU23CV8Q0Y8FMAJ6BAgJEAI&usg=AOvVaw0IBDIiBwSUhvYdAl-MftZm',\n",
       "  '/url?q=https://bitcoinmagazine.com/culture/bitcoin-illuminates-inflation-prices&sa=U&ved=2ahUKEwiCmc-926vwAhXRGbkGHU23CV8QxfQBMAN6BAgIEAE&usg=AOvVaw29aNTsvuR-ZStL8p_odhWO',\n",
       "  '/url?q=https://bitcoinmagazine.com/culture/bitcoin-illuminates-inflation-prices&sa=U&ved=2ahUKEwiCmc-926vwAhXRGbkGHU23CV8Q0Y8FMAN6BAgIEAI&usg=AOvVaw0QeLvssw4Usmgm4sEWpTWy',\n",
       "  '/url?q=https://dailyhodl.com/2021/05/02/bitcoin-whale-behavior-shows-massive-btc-accumulation-above-50000-says-cryptoquant-ceo/&sa=U&ved=2ahUKEwiCmc-926vwAhXRGbkGHU23CV8QxfQBMAR6BAgBEAE&usg=AOvVaw0-xNDkFLinmLKVYRdzuvll',\n",
       "  '/url?q=https://dailyhodl.com/2021/05/02/bitcoin-whale-behavior-shows-massive-btc-accumulation-above-50000-says-cryptoquant-ceo/&sa=U&ved=2ahUKEwiCmc-926vwAhXRGbkGHU23CV8Q0Y8FMAR6BAgBEAI&usg=AOvVaw0eWIC54bYgQsTI94xwKF67',\n",
       "  '/url?q=https://cointelegraph.com/news/top-5-cryptocurrencies-to-watch-this-week-btc-sol-ht-etc-aave&sa=U&ved=2ahUKEwiCmc-926vwAhXRGbkGHU23CV8QxfQBMAV6BAgAEAE&usg=AOvVaw0o8mp2TbPvMhfApRloL0h_',\n",
       "  '/url?q=https://cointelegraph.com/news/top-5-cryptocurrencies-to-watch-this-week-btc-sol-ht-etc-aave&sa=U&ved=2ahUKEwiCmc-926vwAhXRGbkGHU23CV8Q0Y8FMAV6BAgAEAI&usg=AOvVaw0DprUaXcBLz6qF1-5Jb2wW',\n",
       "  '/url?q=https://finance.yahoo.com/news/buffett-and-munger-on-bitcoin-213317653.html&sa=U&ved=2ahUKEwiCmc-926vwAhXRGbkGHU23CV8QxfQBMAZ6BAgCEAE&usg=AOvVaw24EKTU0-TxXLDR_d8F3yNj',\n",
       "  '/url?q=https://finance.yahoo.com/news/buffett-and-munger-on-bitcoin-213317653.html&sa=U&ved=2ahUKEwiCmc-926vwAhXRGbkGHU23CV8Q0Y8FMAZ6BAgCEAI&usg=AOvVaw04o2Eixj4kSBLM4KNZMHjd',\n",
       "  '/url?q=https://www.coindesk.com/ether-price-target-10k-fundstrat&sa=U&ved=2ahUKEwiCmc-926vwAhXRGbkGHU23CV8QxfQBMAd6BAgFEAE&usg=AOvVaw0RAz7xY5rxY-g6ZZSqR8rL',\n",
       "  '/url?q=https://www.coindesk.com/ether-price-target-10k-fundstrat&sa=U&ved=2ahUKEwiCmc-926vwAhXRGbkGHU23CV8Q0Y8FMAd6BAgFEAI&usg=AOvVaw14waYGze_TCh66koU5uUAk',\n",
       "  '/url?q=https://markets.businessinsider.com/currencies/news/bitcoin-etf-sec-approval-us-launch-volatility-market-gensler-2021-4-1030374430&sa=U&ved=2ahUKEwiCmc-926vwAhXRGbkGHU23CV8QxfQBMAh6BAgDEAE&usg=AOvVaw0wT7lA20naTfHlMtsQMIbW',\n",
       "  '/url?q=https://markets.businessinsider.com/currencies/news/bitcoin-etf-sec-approval-us-launch-volatility-market-gensler-2021-4-1030374430&sa=U&ved=2ahUKEwiCmc-926vwAhXRGbkGHU23CV8Q0Y8FMAh6BAgDEAI&usg=AOvVaw3lFv4Acbg-DcQbbL8WhAYs',\n",
       "  '/url?q=https://www.marketwatch.com/story/berkshires-munger-bitcoin-rise-disgusting-and-contrary-to-interests-of-civilization-2021-05-01&sa=U&ved=2ahUKEwiCmc-926vwAhXRGbkGHU23CV8QxfQBMAl6BAgGEAE&usg=AOvVaw014TcbQRzUHjXlvih4EsjY',\n",
       "  '/url?q=https://www.marketwatch.com/story/berkshires-munger-bitcoin-rise-disgusting-and-contrary-to-interests-of-civilization-2021-05-01&sa=U&ved=2ahUKEwiCmc-926vwAhXRGbkGHU23CV8Q0Y8FMAl6BAgGEAI&usg=AOvVaw0xOIIJkzPuYwm70HGxqrHM',\n",
       "  '/search?q=BTC&ie=UTF-8&tbm=nws&ei=JfuOYMLyKdGz5OUPze6m-AU&start=10&sa=N',\n",
       "  '/url?q=https://support.google.com/websearch%3Fp%3Dws_settings_location%26hl%3Den&sa=U&ved=0ahUKEwiCmc-926vwAhXRGbkGHU23CV8Qty4IVQ&usg=AOvVaw3xr-WfBxXj4IBWXVawSYYU',\n",
       "  '/url?q=https://accounts.google.com/ServiceLogin%3Fcontinue%3Dhttps://www.google.com/search%253Fq%253DBTC%2526tbm%253Dnws%26hl%3Den&sa=U&ved=0ahUKEwiCmc-926vwAhXRGbkGHU23CV8Qxs8CCFY&usg=AOvVaw3-rF7nMCCPXxBHBSu3R9K1',\n",
       "  'https://www.google.com/preferences?hl=en&fg=1&sa=X&ved=0ahUKEwiCmc-926vwAhXRGbkGHU23CV8Q5fUCCFc',\n",
       "  'https://policies.google.com/privacy?hl=en&fg=1',\n",
       "  'https://policies.google.com/terms?hl=en&fg=1']}"
      ]
     },
     "execution_count": 33,
     "metadata": {},
     "output_type": "execute_result"
    }
   ],
   "source": [
    "raw_urls = {ticker:search_for_stock_news_urls(ticker) for ticker in monitored_tickers}\n",
    "raw_urls"
   ]
  },
  {
   "cell_type": "code",
   "execution_count": 34,
   "metadata": {},
   "outputs": [
    {
     "data": {
      "text/plain": [
       "['/?sa=X&ved=0ahUKEwiCmc-926vwAhXRGbkGHU23CV8QOwgC',\n",
       " '/?output=search&ie=UTF-8&tbm=nws&sa=X&ved=0ahUKEwiCmc-926vwAhXRGbkGHU23CV8QPAgE',\n",
       " '/search?q=BTC&tbm=nws&ie=UTF-8&gbv=1&sei=JfuOYMLyKdGz5OUPze6m-AU',\n",
       " '/search?q=BTC&ie=UTF-8&source=lnms&sa=X&ved=0ahUKEwiCmc-926vwAhXRGbkGHU23CV8Q_AUIBygA',\n",
       " '/search?q=BTC&ie=UTF-8&tbm=vid&source=lnms&sa=X&ved=0ahUKEwiCmc-926vwAhXRGbkGHU23CV8Q_AUICSgC',\n",
       " '/search?q=BTC&ie=UTF-8&tbm=bks&source=lnms&sa=X&ved=0ahUKEwiCmc-926vwAhXRGbkGHU23CV8Q_AUICigD',\n",
       " '/search?q=BTC&ie=UTF-8&tbm=isch&source=lnms&sa=X&ved=0ahUKEwiCmc-926vwAhXRGbkGHU23CV8Q_AUICygE',\n",
       " 'https://maps.google.com/maps?q=BTC&um=1&ie=UTF-8&sa=X&ved=0ahUKEwiCmc-926vwAhXRGbkGHU23CV8Q_AUIDCgF',\n",
       " '/search?q=BTC&ie=UTF-8&tbm=shop&source=lnms&sa=X&ved=0ahUKEwiCmc-926vwAhXRGbkGHU23CV8Q_AUIDSgG',\n",
       " '/advanced_search',\n",
       " '/search?q=BTC&ie=UTF-8&tbm=nws&source=lnt&tbs=qdr:h&sa=X&ved=0ahUKEwiCmc-926vwAhXRGbkGHU23CV8QpwUIDw',\n",
       " '/search?q=BTC&ie=UTF-8&tbm=nws&source=lnt&tbs=qdr:d&sa=X&ved=0ahUKEwiCmc-926vwAhXRGbkGHU23CV8QpwUIEA',\n",
       " '/search?q=BTC&ie=UTF-8&tbm=nws&source=lnt&tbs=qdr:w&sa=X&ved=0ahUKEwiCmc-926vwAhXRGbkGHU23CV8QpwUIEQ',\n",
       " '/search?q=BTC&ie=UTF-8&tbm=nws&source=lnt&tbs=qdr:m&sa=X&ved=0ahUKEwiCmc-926vwAhXRGbkGHU23CV8QpwUIEg',\n",
       " '/search?q=BTC&ie=UTF-8&tbm=nws&source=lnt&tbs=qdr:y&sa=X&ved=0ahUKEwiCmc-926vwAhXRGbkGHU23CV8QpwUIEw',\n",
       " '/search?q=BTC&ie=UTF-8&tbm=nws&source=lnt&tbs=ar:1&sa=X&ved=0ahUKEwiCmc-926vwAhXRGbkGHU23CV8QpwUIFA',\n",
       " '/search?q=BTC&ie=UTF-8&tbm=nws&source=lnt&tbs=sbd:1&sa=X&ved=0ahUKEwiCmc-926vwAhXRGbkGHU23CV8QpwUIFg',\n",
       " '/url?q=https://www.cnn.com/2021/05/01/investing/ethereum-bitcoin-record-high/index.html&sa=U&ved=2ahUKEwiCmc-926vwAhXRGbkGHU23CV8QxfQBMAB6BAgEEAE&usg=AOvVaw0Uh5JSOBLg0DI90l7FgVA2',\n",
       " '/url?q=https://www.cnn.com/2021/05/01/investing/ethereum-bitcoin-record-high/index.html&sa=U&ved=2ahUKEwiCmc-926vwAhXRGbkGHU23CV8Q0Y8FMAB6BAgEEAI&usg=AOvVaw2qnnY9PrhP6JLJpclJV_1-',\n",
       " '/url?q=https://www.cnbc.com/2021/05/01/charlie-munger-calls-bitcoin-disgusting-and-contrary-to-the-interests-of-civilization.html&sa=U&ved=2ahUKEwiCmc-926vwAhXRGbkGHU23CV8QxfQBMAF6BAgHEAE&usg=AOvVaw3R7gdTFF-WT4yF4ga1xywo',\n",
       " '/url?q=https://www.cnbc.com/2021/05/01/charlie-munger-calls-bitcoin-disgusting-and-contrary-to-the-interests-of-civilization.html&sa=U&ved=2ahUKEwiCmc-926vwAhXRGbkGHU23CV8Q0Y8FMAF6BAgHEAI&usg=AOvVaw1LIgZt9x--p9y7pC_RH4nd',\n",
       " '/url?q=https://fortune.com/2021/05/02/bitcoin-mining-hashrate-china-inner-mongolia-ban/&sa=U&ved=2ahUKEwiCmc-926vwAhXRGbkGHU23CV8QxfQBMAJ6BAgJEAE&usg=AOvVaw3IrMgDoCfrJX6zs45cO8Hf',\n",
       " '/url?q=https://fortune.com/2021/05/02/bitcoin-mining-hashrate-china-inner-mongolia-ban/&sa=U&ved=2ahUKEwiCmc-926vwAhXRGbkGHU23CV8Q0Y8FMAJ6BAgJEAI&usg=AOvVaw0IBDIiBwSUhvYdAl-MftZm',\n",
       " '/url?q=https://bitcoinmagazine.com/culture/bitcoin-illuminates-inflation-prices&sa=U&ved=2ahUKEwiCmc-926vwAhXRGbkGHU23CV8QxfQBMAN6BAgIEAE&usg=AOvVaw29aNTsvuR-ZStL8p_odhWO',\n",
       " '/url?q=https://bitcoinmagazine.com/culture/bitcoin-illuminates-inflation-prices&sa=U&ved=2ahUKEwiCmc-926vwAhXRGbkGHU23CV8Q0Y8FMAN6BAgIEAI&usg=AOvVaw0QeLvssw4Usmgm4sEWpTWy',\n",
       " '/url?q=https://dailyhodl.com/2021/05/02/bitcoin-whale-behavior-shows-massive-btc-accumulation-above-50000-says-cryptoquant-ceo/&sa=U&ved=2ahUKEwiCmc-926vwAhXRGbkGHU23CV8QxfQBMAR6BAgBEAE&usg=AOvVaw0-xNDkFLinmLKVYRdzuvll',\n",
       " '/url?q=https://dailyhodl.com/2021/05/02/bitcoin-whale-behavior-shows-massive-btc-accumulation-above-50000-says-cryptoquant-ceo/&sa=U&ved=2ahUKEwiCmc-926vwAhXRGbkGHU23CV8Q0Y8FMAR6BAgBEAI&usg=AOvVaw0eWIC54bYgQsTI94xwKF67',\n",
       " '/url?q=https://cointelegraph.com/news/top-5-cryptocurrencies-to-watch-this-week-btc-sol-ht-etc-aave&sa=U&ved=2ahUKEwiCmc-926vwAhXRGbkGHU23CV8QxfQBMAV6BAgAEAE&usg=AOvVaw0o8mp2TbPvMhfApRloL0h_',\n",
       " '/url?q=https://cointelegraph.com/news/top-5-cryptocurrencies-to-watch-this-week-btc-sol-ht-etc-aave&sa=U&ved=2ahUKEwiCmc-926vwAhXRGbkGHU23CV8Q0Y8FMAV6BAgAEAI&usg=AOvVaw0DprUaXcBLz6qF1-5Jb2wW',\n",
       " '/url?q=https://finance.yahoo.com/news/buffett-and-munger-on-bitcoin-213317653.html&sa=U&ved=2ahUKEwiCmc-926vwAhXRGbkGHU23CV8QxfQBMAZ6BAgCEAE&usg=AOvVaw24EKTU0-TxXLDR_d8F3yNj',\n",
       " '/url?q=https://finance.yahoo.com/news/buffett-and-munger-on-bitcoin-213317653.html&sa=U&ved=2ahUKEwiCmc-926vwAhXRGbkGHU23CV8Q0Y8FMAZ6BAgCEAI&usg=AOvVaw04o2Eixj4kSBLM4KNZMHjd',\n",
       " '/url?q=https://www.coindesk.com/ether-price-target-10k-fundstrat&sa=U&ved=2ahUKEwiCmc-926vwAhXRGbkGHU23CV8QxfQBMAd6BAgFEAE&usg=AOvVaw0RAz7xY5rxY-g6ZZSqR8rL',\n",
       " '/url?q=https://www.coindesk.com/ether-price-target-10k-fundstrat&sa=U&ved=2ahUKEwiCmc-926vwAhXRGbkGHU23CV8Q0Y8FMAd6BAgFEAI&usg=AOvVaw14waYGze_TCh66koU5uUAk',\n",
       " '/url?q=https://markets.businessinsider.com/currencies/news/bitcoin-etf-sec-approval-us-launch-volatility-market-gensler-2021-4-1030374430&sa=U&ved=2ahUKEwiCmc-926vwAhXRGbkGHU23CV8QxfQBMAh6BAgDEAE&usg=AOvVaw0wT7lA20naTfHlMtsQMIbW',\n",
       " '/url?q=https://markets.businessinsider.com/currencies/news/bitcoin-etf-sec-approval-us-launch-volatility-market-gensler-2021-4-1030374430&sa=U&ved=2ahUKEwiCmc-926vwAhXRGbkGHU23CV8Q0Y8FMAh6BAgDEAI&usg=AOvVaw3lFv4Acbg-DcQbbL8WhAYs',\n",
       " '/url?q=https://www.marketwatch.com/story/berkshires-munger-bitcoin-rise-disgusting-and-contrary-to-interests-of-civilization-2021-05-01&sa=U&ved=2ahUKEwiCmc-926vwAhXRGbkGHU23CV8QxfQBMAl6BAgGEAE&usg=AOvVaw014TcbQRzUHjXlvih4EsjY',\n",
       " '/url?q=https://www.marketwatch.com/story/berkshires-munger-bitcoin-rise-disgusting-and-contrary-to-interests-of-civilization-2021-05-01&sa=U&ved=2ahUKEwiCmc-926vwAhXRGbkGHU23CV8Q0Y8FMAl6BAgGEAI&usg=AOvVaw0xOIIJkzPuYwm70HGxqrHM',\n",
       " '/search?q=BTC&ie=UTF-8&tbm=nws&ei=JfuOYMLyKdGz5OUPze6m-AU&start=10&sa=N',\n",
       " '/url?q=https://support.google.com/websearch%3Fp%3Dws_settings_location%26hl%3Den&sa=U&ved=0ahUKEwiCmc-926vwAhXRGbkGHU23CV8Qty4IVQ&usg=AOvVaw3xr-WfBxXj4IBWXVawSYYU',\n",
       " '/url?q=https://accounts.google.com/ServiceLogin%3Fcontinue%3Dhttps://www.google.com/search%253Fq%253DBTC%2526tbm%253Dnws%26hl%3Den&sa=U&ved=0ahUKEwiCmc-926vwAhXRGbkGHU23CV8Qxs8CCFY&usg=AOvVaw3-rF7nMCCPXxBHBSu3R9K1',\n",
       " 'https://www.google.com/preferences?hl=en&fg=1&sa=X&ved=0ahUKEwiCmc-926vwAhXRGbkGHU23CV8Q5fUCCFc',\n",
       " 'https://policies.google.com/privacy?hl=en&fg=1',\n",
       " 'https://policies.google.com/terms?hl=en&fg=1']"
      ]
     },
     "execution_count": 34,
     "metadata": {},
     "output_type": "execute_result"
    }
   ],
   "source": [
    "raw_urls['BTC']"
   ]
  },
  {
   "cell_type": "markdown",
   "metadata": {},
   "source": [
    "## 4.2. Strip out unwanted URLs"
   ]
  },
  {
   "cell_type": "code",
   "execution_count": 35,
   "metadata": {},
   "outputs": [],
   "source": [
    "import re"
   ]
  },
  {
   "cell_type": "code",
   "execution_count": 36,
   "metadata": {},
   "outputs": [],
   "source": [
    "exclude_list = ['maps', 'policies', 'preferences', 'accounts', 'support']"
   ]
  },
  {
   "cell_type": "code",
   "execution_count": 37,
   "metadata": {},
   "outputs": [],
   "source": [
    "def strip_unwanted_urls(urls, exclude_list):\n",
    "    val = []\n",
    "    for url in urls: \n",
    "        if 'https://' in url and not any(exclude_word in url for exclude_word in exclude_list):\n",
    "            res = re.findall(r'(https?://\\S+)', url)[0].split('&')[0]\n",
    "            val.append(res)\n",
    "    return list(set(val))"
   ]
  },
  {
   "cell_type": "code",
   "execution_count": 38,
   "metadata": {},
   "outputs": [
    {
     "data": {
      "text/plain": [
       "{'DOGE': ['https://www.deseret.com/2021/5/1/22411726/dogecoin-mark-cuban-investment-prediction',\n",
       "  'https://www.fool.com/investing/2021/04/29/5-reasons-to-avoid-dogecoin-like-the-plague/',\n",
       "  'https://www.deseret.com/u-s-world/2021/4/29/22409512/dogecoin-all-time-high-record',\n",
       "  'https://finance.yahoo.com/news/dogecoin-dead-elon-musk-mark-194114001.html',\n",
       "  'https://www.forbes.com/sites/billybambrough/2021/05/01/ethereum-is-suddenly-rocketing-but-dogecoin-is-still-the-crypto-price-king/',\n",
       "  'https://www.coindesk.com/dogecoin-federal-reserve-chairman-jerome-powell-capital-markets',\n",
       "  'https://www.benzinga.com/markets/cryptocurrency/21/05/20904133/how-is-doge-looking-a-week-away-from-elon-musks-may-8-saturday-night-live-appearance',\n",
       "  'https://markets.businessinsider.com/currencies/news/mike-novogratz-xrp-ripple-dogecoin-bitcoin-insurance-crypto-investments-2021-4-1030373300',\n",
       "  'https://www.deseret.com/u-s-world/2021/4/30/22409494/dogecoin-stable-investment-price',\n",
       "  'https://www.benzinga.com/markets/cryptocurrency/21/05/20827000/could-elon-musks-snl-hosting-cause-a-bump-in-tesla-or-dogecoin'],\n",
       " 'ETH': ['https://www.benzinga.com/markets/cryptocurrency/21/04/20881404/polygon-matic-hits-all-time-high-ethereum-retreats-and-dogecoin-finds-stability-since-musk',\n",
       "  'https://finance.yahoo.com/news/ethereum-litecoin-ripple-xrp-daily-001639450.html',\n",
       "  'https://www.forbes.com/sites/billybambrough/2021/05/01/ethereum-is-suddenly-rocketing-but-dogecoin-is-still-the-crypto-price-king/',\n",
       "  'https://finance.yahoo.com/news/binance-smart-chain-defi-tvl-133100709.html',\n",
       "  'https://www.cnn.com/2021/05/01/investing/ethereum-bitcoin-record-high/index.html',\n",
       "  'https://www.cnbc.com/2021/04/29/bitcoin-btc-ethereum-eth-cryptocurrency-price-hits-record-high.html',\n",
       "  'https://www.theverge.com/2021/4/29/22409838/nvidia-rtx-3060-etherium-cryptocurrency-mining-limit-back-driver-update',\n",
       "  'https://finance.yahoo.com/news/ethereum-price-surge-know-decide-110011253.html',\n",
       "  'https://www.coindesk.com/market-wrap-bitcoin-57k-expirations-ether-steadies',\n",
       "  'https://www.coindesk.com/ether-price-target-10k-fundstrat'],\n",
       " 'BTC': ['https://cointelegraph.com/news/top-5-cryptocurrencies-to-watch-this-week-btc-sol-ht-etc-aave',\n",
       "  'https://finance.yahoo.com/news/buffett-and-munger-on-bitcoin-213317653.html',\n",
       "  'https://dailyhodl.com/2021/05/02/bitcoin-whale-behavior-shows-massive-btc-accumulation-above-50000-says-cryptoquant-ceo/',\n",
       "  'https://www.cnbc.com/2021/05/01/charlie-munger-calls-bitcoin-disgusting-and-contrary-to-the-interests-of-civilization.html',\n",
       "  'https://fortune.com/2021/05/02/bitcoin-mining-hashrate-china-inner-mongolia-ban/',\n",
       "  'https://www.cnn.com/2021/05/01/investing/ethereum-bitcoin-record-high/index.html',\n",
       "  'https://markets.businessinsider.com/currencies/news/bitcoin-etf-sec-approval-us-launch-volatility-market-gensler-2021-4-1030374430',\n",
       "  'https://www.marketwatch.com/story/berkshires-munger-bitcoin-rise-disgusting-and-contrary-to-interests-of-civilization-2021-05-01',\n",
       "  'https://bitcoinmagazine.com/culture/bitcoin-illuminates-inflation-prices',\n",
       "  'https://www.coindesk.com/ether-price-target-10k-fundstrat']}"
      ]
     },
     "execution_count": 38,
     "metadata": {},
     "output_type": "execute_result"
    }
   ],
   "source": [
    "cleaned_urls = {ticker:strip_unwanted_urls(raw_urls[ticker], exclude_list) for ticker in monitored_tickers}\n",
    "cleaned_urls"
   ]
  },
  {
   "cell_type": "markdown",
   "metadata": {},
   "source": [
    "## 4.3. Search and Scrape Cleaned URLs"
   ]
  },
  {
   "cell_type": "code",
   "execution_count": 39,
   "metadata": {},
   "outputs": [],
   "source": [
    "def scrape_and_process(URLs):\n",
    "    ARTICLES = []\n",
    "    for url in URLs: \n",
    "        r = requests.get(url)\n",
    "        soup = BeautifulSoup(r.text, 'html.parser')\n",
    "        paragraphs = soup.find_all('p')\n",
    "        text = [paragraph.text for paragraph in paragraphs]\n",
    "        words = ' '.join(text).split(' ')[:350]\n",
    "        ARTICLE = ' '.join(words)\n",
    "        ARTICLES.append(ARTICLE)\n",
    "    return ARTICLES"
   ]
  },
  {
   "cell_type": "code",
   "execution_count": 40,
   "metadata": {},
   "outputs": [
    {
     "data": {
      "text/plain": [
       "{'DOGE': ['Filed under: Dallas Mavericks owner Mark Cuban promoted Dogecoin and other cryptocurrencies on ‘Ellen’ this week  Dallas Mavericks owner Mark Cuban made an appearance on “Ellen” — the daytime talk show with Ellen DeGeneres — and chatted about Dogecoin. Cuban — when asked by DeGeneres about cryptocurrencies — decided to explain the importance of Dogecoin. He said his 11-year-old son, Jake, is involved in Dogecoin, buying about $30 worth. \\n    Related\\n   Cuban said the Dallas Mavericks accept Dogecoin — which started as an internet meme — in their team shop, too, according to CoinDesk. Cuban’s recent comments might be a good thing for Dogecoin owners, as his previous comments led to a spike in value, as I explained for the Deseret News. Cuban previously celebrated Dogecoin on Twitter. He said the cryptocurrency’s biggest issue is not being able to withdraw any of your Dogecoin holdings from the Robinhood app. Robinhood CEO Vlad Tenev said he will try to change the Robinhood app to allow people to make sure they can withdraw their holdings, though.    ',\n",
       "  \"Returns as of 5/2/2021 Returns as of 5/2/2021 Founded in 1993 by brothers Tom and David Gardner, The Motley Fool helps millions of people attain financial freedom through our website, podcasts, books, newspaper column, radio show, and premium investing services. Whether you're a relatively new investor or someone who's been putting their money to work on Wall Street for decades, there's always something new and interesting to see. Last year, it was the unparalleled uncertainty that arose from a once-in-a-century pandemic. In 2021, it's been the rise of the retail investor. While a lot of retail investors have been focusing on stocks with high levels of short interest -- e.g., GameStop\\xa0and AMC Entertainment\\xa0-- we've also witnessed a huge bump in cryptocurrency valuations as a result of young investors putting their money to work. In recent weeks, Bitcoin (CRYPTO:BTC), the world's largest digital currency, nearly hit $65,000, while Ethereum\\xa0surpassed $2,600. But it's not Bitcoin or Ethereum that are creating the loudest buzz among crypto enthusiasts at the moment. That title belongs to Dogecoin (CRYPTO:DOGE). Image source: Getty Images. At one point last week, Dogecoin tokens were going for north of $0.43. That may not sound like a lot, but it gave the digital currency a market cap of more than $55 billion. To put this into some context, Dogecoin was worth more than the market value of companies like Kraft Heinz, Ford, and Twitter. It also briefly made Dogecoin one of the five most-valuable digital currencies. Daily trading volume has also gone through the roof. Roughly one year ago, 200 million to 300 million Dogecoin were traded daily. Over the past two weeks, we've witnessed anywhere from 11.9 billion to 69.4 billion Dogecoin change hands on a daily basis. In short, it's become the poster child of crypto momentum in a matter of months. But even with a roughly 11,000% gain over the trailing-12-month period, Dogecoin has all the look of a pump-and-dump asset that investors should avoid like the plague. Here are five key reasons Dogecoin belongs nowhere near investors' portfolios. Image source: Getty Images. Arguably the biggest knock against\",\n",
       "  'Filed under: Dogecoin will soon hit an all-time high if current trends continue   Dogecoin continued to see its value spiked to a new level, reaching a worth of $40 million in total. And it’s seeking an all-time high. But analysts and experts recently said investing too much into cryptocurrency could become a problem for people. Dogecoin has been seeking a spike in value in recent weeks, as I’ve written for the Deseret News. Much of the rise can be attributed to the internet-only Doge Day and the fact that Tesla CEO Elon Musk and Dallas Mavericks owner Mark Cuban have been tweeting about it. \\n    Related\\n   Dogecoin is expected to hit an all-time high, according to Yahoo! Finance. According to Yahoo! Finance, the Dogecoin market is trending upwards, which might lead to a new all-time high. \\n    Related\\n   Multiple experts told Bloomberg that people are investing in Dogecoin for a number of reasons, most of which don’t have to do with earning money at all and more about being apart of the cultural movement of the meme-based cryptocurrency. Jeffrey Halley, the senior market analyst at Oanda Asia Pacific, which helps trade traditional currencies, told Bloomberg that Dogecoin’s appeal is that it is cheap. Curtis Ting, managing director for Europe at the cryptocurrency exchange company Kraken, told Bloomberg that Dogecoin is part-meme and part-money, so it’s adding this psychological effect where people invest as a joke, which leads to the cryptocurrency being worth more.',\n",
       "  'A must-watch for investors everywhere. When Dogecoin (CCC:DOGE-USD) enthusiasts created #DogeDay, many hoped that Dogecoin prices would go to $1. Even fifty cents would have been acceptable. Source: Shutterstock Instead, Apr. 20 marked one of Dogecoin’s worst days on record. Within hours, the coin had dropped from its open of around 40 cents to a close of 32 cents. By the end of the week, the “meme coin” had sunk below 20 cents, wiping out $25 billion of investor wealth. “There was anxiety with larger investors who had big positions that the dog had its day coming and wanted to exit,” said Eric Schiffer, the head of a private equity firm called The Patriarch Organization. InvestorPlace - Stock Market News, Stock Advice & Trading Tips For all purposes, it looked like Dogecoin was dead. But momentum bulls would have the last laugh. As celebrities like Mark Cuban and Elon Musk began tweeting about the cryptocurrency, investors began to buy back in. Almost magically, Dogecoin prices started to rise again.  10 of the Top Nasdaq Blue-Chip Stocks to Buy  Now, as investors try to make sense of an asset with “zero intrinsic value,” momentum investors will continue to confound traditional ones. As this week has shown, Dogecoin might be dead — but just not quite yet. Cryptocurrency’s biggest inside joke has long confused conventional investors. All coins already have zero intrinsic value and Dogecoin made a point to satirize that fact. Its original 2013 code awarded up to one billion coins per solved block, making DOGE virtually unusable as a form of currency. Fast forward to 2021, however, and DOGE has emerged as one of the most serious money-makers of the year. $10,000 invested in Dogecoin at the start of the year would have turned to over $870,000 at its peak. Ordinary retail investors became overnight millionaires. Technologically, Dogecoin has also grown up. Its once ludicrous mining reward system now runs on a system that mimics a 2.5% inflation rate. A “merged mining” ability also allows miners to process DOGE in parallel with Litecoin (CCC:LTE-USD), significantly increasing its mining',\n",
       "  'Ethereum, the second-largest cryptocurrency after bitcoin, has shot higher this week, adding a staggering 25% to its already huge recent gains.  The ethereum price, now within touching distance of $3,000 per ether, has been boosted by the European Investment Bank’s (EIB) debut digital bond sale, issued on the ethereum blockchain, and praise from Wall Street giant and bitcoin convert JPMorgan\\n\\nJPM\\n. However, even as ethereum investors and developers celebrate the soaring ether price, \"joke\" cryptocurrency dogecoin is rocketing further and faster—adding almost 50% to its price over the last week. Dogecoin, a tongue-in-cheek cryptocurrency originally created as a \"joke,\" has seen its price soar ... [+] through 2021, far outpacing the price rises seen by bitcoin and ethereum.  Dogecoin, based on the Shiba Inu doge meme and a favorite of Tesla \\n \\nTSLA\\n billionaire Elon Musk, has soared by almost 5,000% since its price exploded in January.  The dogecoin price has so far held its ground, defying critics who have warned its price is likely to come crashing down as quickly as it has risen. And cryptocurrency traders hoping dogecoin will hit $1—up from around 38 cents—continue to pile in. Elon Musk, a long-time supporter of dogecoin who was voted its CEO in a 2019 Twitter poll, has helped buoy the dogecoin price, regularly tweeting dogecoin memes and jokes, most recently cueing up his hotly-anticipated appearance on Saturday Night Live next week by posting: \"The Dogefather.\" Dogecoin has shot into the cryptocurrency top ten in recent months and looks set to break back into the top five with its total market value currently just under $50 billion. Bitcoin, for comparison, now has a market capitalization of just over $1 trillion. Ethereum, in many ways the cryptocurrency antithesis to dogecoin, is meanwhile up more than three-fold from the beginning of the year as it emerges as \"the backbone of the crypto-native economy.\" The dogecoin price has climbed almost 50% this week, making the combined dogecoin tokens in ... [+] circulation worth a mind-blowing near-$50 billion.  This week, the EIB, the European Union\\'s lending arm, used ethereum to issue',\n",
       "  'Sign up for our newsletters By signing up, you will receive emails about CoinDesk products and you agree to our terms & conditions and privacy policy Sign up for our newsletters By signing up, you will receive emails about CoinDesk products and you agree to our terms & conditions and privacy policy Please consider using a different web browser for better experience. \"You are seeing things in the capital markets that are a bit frothy, that\\'s a fact,\" said Powell. \"I won\\'t say it has nothing to do with monetary policy.\" U.S. Federal Reserve Chairman Jerome Powell said Wednesday he thinks capital markets, as typified by the dogecoin craze, are a “bit frothy” and admitted that the central bank’s easy-money policy may have had something to do with that. In a press conference that followed the Fed’s two-day meeting, Powell was asked whether he believed there was a risk to financial stability in trends such as the meme-inspired cryptocurrency.  The Shiba Inu-represented crypto, which was started as a joke, is up more than 6,000% year to date. The question was framed amid the backdrop of low interest rates and easy monetary policy that has sparked interest in speculative investnments such as GameStop’s stock and dogecoin. “You are seeing things in the capital markets that are a bit frothy, that’s a fact,” Powell said. “I won’t say it has nothing to do with monetary policy, but also it has a tremendous amount to do with vaccination and reopening of the economy.” In a bid to combat the fallout from COVID-19, central banks around the world have poured new money into financial markets, which, in turn, has had a major impact on cryptocurrencies through asset price inflation. Powell was upbeat about the prospects for a swifter economic recovery in the U.S., pointing toward “very well-capitalized large banks” and low funding risks among financial institutions.  “What has been moving markets a lot in the last few months is this turn away from what was a pretty dark winter to now a much faster vaccination process and a faster reopening,” he said',\n",
       "  'Dogecoin (DOGE: CRYPTO) saw a solid bounce in the bygone week, although the meme currency is still trading off the record high of 43.77 cents hit on April 16. Volatile Month:  Doge, which was created as a joke currency in 2013, has come a long way from its early days.\\xa0Notably, the meme currency has gained over 7,500% in the year-to-date period. Celebrities such as Tesla, Inc.\\'s (NASDAQ:TSLA)  Elon Musk  and rapper Snoop Dogg have put\\xa0their weight behind it, not to mention\\xa0the retail frenzy that has been a strong pillar of support. The Doge community\\'s efforts to push the meme currency beyond $1 by 4/20, which was unofficially declared as \"Doge Day,\"\\xa0proved futile.\\nDoge breached the 40-cent level a day ahead of the Doge Day but could not push past the earlier high set on April 16. The highest the cryptocurrency reached afterward was 43.18 cents on April 19. See Also:  How to Buy Dogecoin (DOGE) Doge Day ended with a whimper, as the meme currency settled at 31.95 cents. From the April 19 high, Doge plummeted to a low of 16.37 cents on April 23. Related Link: Dogecoin As Payment Option Gains Momentum As \\'Meme Currency\\' Shoots For The Moon Strong Week: The past week, however, has seen a\\xa0resurgence  in Doge, once again all credit to Musk, who hinted in a tweet that he may be discussing the meme currency when he hosts the \"Saturday Night Live\" show on May 8. In a cryptic tweet, Musk mentioned \"The Dogefather\" with the show and the date, which was interpreted as him promoting Doge. Doge started Monday on a firm note before ending at 27.07 cents, and then saw a consolidation move on Tuesday. It took a leg up on Wednesday amid  Musk\\'s  tweet before settling at 32.37. It was a back-and-forth move over the next two sessions but the cryptocurrency has picked up further momentum on Saturday. Doge Barks In Anticipation of \"Dogefather\\'s\" Support:  Doge could see some momentum in the coming week, especially in the run up to Musk\\'s TV appearance. Reddit users',\n",
       "  '\\r\\n            © 2021 Insider Inc. and finanzen.net GmbH (Imprint). All rights reserved.\\r\\n         \\r\\n            Registration on or use of this site constitutes acceptance of our Terms of Service and Privacy Policy.\\r\\n         \\nDisclaimer |\\r\\n            Commerce Policy |\\r\\n            Made In NYC |\\r\\n            Stock quotes by finanzen.net\\n Bryan Bedder/Getty Images for Hudson River Park Billionaire Mike Novogratz blasted Ripple\\'s XRP and advised against buying dogecoin in a recent \"Earn Your Leisure\" interview with hosts Rashad Bilal and Troy Millings. The CEO of crypto merchant bank Galaxy Digital said he isn\\'t worried about bitcoin\\'s long-term health because institutions like Goldman Sachs and JPMorgan are entering the space. He predicted crypto investments will make up 2% of global wealth within two to three years, up from its current slice of half a percent. 1. \"Over the years, the XRP army has built up a real community of people that really want to believe it. It reminds me a little bit of Trump supporters, they\\'ll believe you stole the election. You could tell them anything. It\\'s like 9/11 conspiracy theories. There\\'s a little bit of that in crypto. They just don\\'t look at the truth sometimes.\" - On why Ripple\\'s XRP has been on a tear.\\n\\n\\n 2. \"I\\'ve never liked the XRP token because you\\'ve got one group that owns so much of it. Let alone you\\'ve got the SEC breathing down the necks of the CEO, the founder, and the company.\" - On Ripple\\'s token being a \\'painful trade.\\' 3. \"No, you shouldn\\'t buy dogecoin. You should sell dogecoin probably now that it\\'s gone up to 42 cents. But there\\'s a lot of uneducated investors that feel the energy of this moment and want to',\n",
       "  'Filed under: U.S. Federal Reserve Chairman Jerome Powell recently acknowledged Dogecoin, calling it ‘frothy’  U.S. Federal Reserve Chairman Jerome Powell recently hinted at Dogecoin, saying that capital markets are “frothy.” Powell said recent internet-based cryptocurrency crazes — like the Dogecoin or Bitcoin boom in recent weeks — might provide a potential risk to financial stability for people, according to Yahoo! Finance. \\n    Related\\n   Per CoinDesk, this is a direct reference to the Dogecoin and cryptocurrency spikes that have occurred in recent weeks. “In a bid to combat the fallout from COVID-19, central banks around the world have continued to flood new money into financial markets which, in turn, has had a major impact on cryptocurrency through asset price inflation,” according to CoinDesk. “Some of the asset prices are high. You are seeing things in the capital markets that are a bit frothy. That’s a fact,” Fed Chair Powell says in response to a question from @bcheungz. “The overall financial stability picture is mixed, but on balance it’s manageable.” pic.twitter.com/6ZbiFDIQmW Powell’s comments come as cryptocurrencies continue to rise in value. Dogecoin recently spiked in value again after Tesla CEO Elon Musk and Dallas Mavericks owner Mark Cuban tweeted about it to the public, according to CNBC. Cuban’s tweet actually mattered a lot. He said that one of the problems of Dogecoin is that it can’t be used to buy things. He suggested that the “greatest inhibitor to its growth is that you can’t spend the Doge you buy on Robinhood,” Cuban tweeted.',\n",
       "  'An appearance by the executive of a publicly-traded company on CNBC or another business-related news channel can sometimes move the share price fast. If the show airs outside the trading hours, it can sometimes have less of an effect on the share price. That raises the question of what kind of impact the upcoming Elon Musk appearance on \"Saturday Night Live\" might have not just on his company\\'s share price the following Monday, but also on cryptocurrency trading during the airing of the show. What Happened: Musk, the CEO of Tesla Inc (NASDAQ:TSLA) is set to appear as the host of \"SNL\" on May 8. Musk will likely be careful about\\xa0mentioning too many specifics about the electric vehicle company given the watchful eye of the Securities and Exchange Commission. The Tesla CEO could be featured in skits and parodies that look at electric vehicles, landing on the Moon or even the meme coin Dogecoin that Musk likes\\xa0to promote on Twitter. The electric vehicle car company reported first-quarter earnings earlier this week. See Also:\\xa0How to Buy Dogecoin (DOGE) Why It’s Important: The show, which airs on NBC from Comcast Corporation (NASDAQ:CMCSA), airs outside of the trading hours for Tesla shares. Depending on how Musk’s appearance is received or what is said about Tesla, shares could see a reaction on Monday, May 10, when the market resumes. Cryptocurrency is much different as the market never sleeps and Dogecoin can be traded throughout the show. If Musk mentions Dogecoin or a skit is done to discuss the meme coin, it is quite possible that the valuation could see a large spike. Related Link: 5 Things You Might Not Know About Elon Musk Owners and fans of Dogecoin rallied around April 20 as \"Doge Day\" in an attempt to put the spotlight on the cryptocurrency and get the price of the coin to key levels like $0.69 and $1.\\xa0 Both of those levels failed and with no new event in sight, the Doge community could rally around the appearance by Musk as an event to get Dogecoin trending and trading higher.\\xa0 A tweet from'],\n",
       " 'ETH': ['Ethereum (ETH) is markedly volatile over 24 hours\\xa0while the joke cryptocurrency Dogecoin (DOGE) has found stability around the 30 cent level on Thursday. What Happened: ETH touched an intraday low of $2,672.11 in the 24-hour period leading up to press time and a high of $2,797.97 — the latter is also its all-time high. At press time, the second-largest cryptocurrency by market cap was trading 1.49% higher at $2,749.84. See also:\\xa0How to Buy Polygon (MATIC) DOGE hit an intraday low of $0.30 and a high of $0.32 in the 24-hours leading up to press time,\\xa0when it traded 2.59% lower at $0.31. The cryptocurrency shot beyond the 30 cent mark on Wednesday after\\xa0Tesla Inc. (NASDAQ:TSLA) CEO Elon Musk and \"Dogefather\"\\xa0hinted on it making an appearance in his SNL episode\\xa0and has found stability above the mark. Meanwhile, the apex cryptocurrency Bitcoin (BTC) traded 1.9% lower over 24 hours at $53,522.12. Why It Matters: Decentralized Finance (DeFi) associated cryptocurrencies in competition or complementary to Ethereum have been soaring lately. See Also:\\xa0Mark Cuban Says He\\'s Been Holding Crypto For Years Without Selling Anything On Thursday, some such cryptocurrencies like Venus (XVS), Polygon (MATIC), and PancakeSwap (CAKE) hit new all-time highs. XVS touched an all-time high of $123.63 and traded 48.56% higher at $110.34. The cryptocurrency was the top gainer on a 24-hour basis in the list arranged by CoinMarketCap. Venus Protocol announced Thursday in a tweet that Binance and holders of Binance debit cards carrying Visa Inc’s (NYSE:V) brand can now spend XVS and Vai (VAI) stablecoin by transferring them from their cryptocurrency spot wallets to their card wallet. MATIC traded 16.89% higher at $0.91 at press time and hit an all-time high of $0.94 on Thursday night. The cryptocurrency has gained 177.49% on a seven-day trailing basis. CAKE traded 7.56% higher at $42.03. On Wednesday, it reached an all-time high of $44.02. DeFi coins are buoyant as Ethereum’s blockchain suffers from congestion resulting in higher transaction costs — known as “Gas.” Read Next:\\xa0Ethereum Killers Are Advancing At Record Pace This Year: What You Need To Know \\n      ',\n",
       "  'A must-watch for investors everywhere. Ethereum rose by 0.64% on Friday. Following a 0.27% gain from Thursday, Ethereum ended the month up by 44.61% to $2,776.45. A mixed start to the day saw Ethereum fall to an early morning intraday low $2,727.00 before making a move. Steering clear of the first major support level at $2,687, Ethereum rallied to a late morning intraday high $2,800.00. Falling short of the first major resistance level at $2,815, Ethereum fell back to sub-$2,730 levels before finding support. Thursday’s new swing hi $2,800.00 pinned Ethereum back on the day. At the time of writing, Ethereum was up by 0.15% to $2,780.54. A mixed start to the day saw Ethereum fall to an early morning low $2,766.67 before rising to a high $2,781.39. Ethereum left the major support and resistance levels untested early on. Ethereum would need to avoid a fall through the pivot level at $2,768 to support a run at the first major resistance level at $2,809. Support from the broader market would be needed, however, for Ethereum to break out from the new swing hi $2,800. Barring an extended crypto rally, the first major resistance level and Friday’s high $2,800 would likely cap any upside. In the event of a breakout, Ethereum could test resistance at $2,900. The second major resistance level sits at $2,841. Failure to avoid a fall through the $2,768 pivot would bring the first major support level at $2,736 into play. Barring an extended sell-off, however, Ethereum should steer clear of sub-$2,700 levels. The second major support level sits at $2,695. First Major Support Level: $2,736 Pivot Level: $2,768 First Major Resistance Level: $2,809 23.6% FIB Retracement Level: $2,158 38.2% FIB Retracement Level: $1,761 62% FIB Retracement Level: $1,119 Litecoin rose by 6.30% on Friday. Reversing a 1.27% decline from Thursday, Litecoin ended the month up by 37.93% to $271.59. A mixed start to the day saw Litecoin fall to an early morning intraday low $252.74 before making a move. Steering clear of the first major support level at $249, Litecoin rose to a late intraday high $273.87.',\n",
       "  'Ethereum, the second-largest cryptocurrency after bitcoin, has shot higher this week, adding a staggering 25% to its already huge recent gains.  The ethereum price, now within touching distance of $3,000 per ether, has been boosted by the European Investment Bank’s (EIB) debut digital bond sale, issued on the ethereum blockchain, and praise from Wall Street giant and bitcoin convert JPMorgan\\n\\nJPM\\n. However, even as ethereum investors and developers celebrate the soaring ether price, \"joke\" cryptocurrency dogecoin is rocketing further and faster—adding almost 50% to its price over the last week. Dogecoin, a tongue-in-cheek cryptocurrency originally created as a \"joke,\" has seen its price soar ... [+] through 2021, far outpacing the price rises seen by bitcoin and ethereum.  Dogecoin, based on the Shiba Inu doge meme and a favorite of Tesla \\n \\nTSLA\\n billionaire Elon Musk, has soared by almost 5,000% since its price exploded in January.  The dogecoin price has so far held its ground, defying critics who have warned its price is likely to come crashing down as quickly as it has risen. And cryptocurrency traders hoping dogecoin will hit $1—up from around 38 cents—continue to pile in. Elon Musk, a long-time supporter of dogecoin who was voted its CEO in a 2019 Twitter poll, has helped buoy the dogecoin price, regularly tweeting dogecoin memes and jokes, most recently cueing up his hotly-anticipated appearance on Saturday Night Live next week by posting: \"The Dogefather.\" Dogecoin has shot into the cryptocurrency top ten in recent months and looks set to break back into the top five with its total market value currently just under $50 billion. Bitcoin, for comparison, now has a market capitalization of just over $1 trillion. Ethereum, in many ways the cryptocurrency antithesis to dogecoin, is meanwhile up more than three-fold from the beginning of the year as it emerges as \"the backbone of the crypto-native economy.\" The dogecoin price has climbed almost 50% this week, making the combined dogecoin tokens in ... [+] circulation worth a mind-blowing near-$50 billion.  This week, the EIB, the European Union\\'s lending arm, used ethereum to issue',\n",
       "  'A must-watch for investors everywhere. Binance is firing on all cylinders, from the Smart Chain to the coin. As Binance coin (BNB) comes close to hitting an all-time (ATH) high today, it is also shown that the Total Value Locked (TVL) in decentralized finance (DeFi) on the Binance Smart Chain (BSC) is catching up to that on Ethereum (ETH). Mati Greenspan, founder and CEO of Quantum Economics, tweeted earlier today that the BSC TVL is currently at $43 billion. Meanwhile, Ethereum sits at $65 billion. In addition, reports indicate that the BSC-based decentralized exchange (DEX) PancakeSwap (CAKE) transacted more than four DEXs on Ethereum’s blockchain, including frontrunners Uniswap (UNI) and Sushiswap (SUSHI). PancakeSwap traded $1.6 million in a 24-hour period, while Uniswap trailed behind, with $1.1 billion. In the same time period, Sushiswap traded $300 million. This marks the first time PancakeSwap has exceeded both Uniswap and Sushiswap combined in terms of transactions. Upon reaching a price of $620.12, BNB has come close to hitting an all-time high today. Just two weeks on from its last milestone, achieved when it hit $638.50. According to data, Binance’s native token, which is also the third-most valuable cryptocurrency by market capitalization, has been on a steady climb, in the last 24 hours. In the evening of April 29, BNB’s low was $572.76, after which it continued to clamber past the $600 mark, until hitting $620 in the late morning of April 30. The same data also revealed that BNB was up 20% from the last seven days, marking one of the best recoveries since last week’s crash. It hasn’t been all about value increases for Binance this week. For reasons good and bad, it has been an eventful seven days for the exchange and its blockchain network.\\xa0 Most recently, on April 28, the exchange came under scrutiny from regulators, in response to its stock token offering. It sparked an investigation by European regulators, who are now debating whether or not the tokens adhere to rules regarding corporate disclosures and transparency. Binance had previously announced that they would offer tokens giving exposure to MicroStrategy,',\n",
       "  \"By Paul R. La Monica, CNN Business  Updated 4:54 PM ET, Sat May 1, 2021  New York (CNN Business)Bitcoin prices continued their rebound Saturday, rising about 6% to nearly $58,000. But the world's largest cryptocurrency has been overshadowed lately by its younger sibling, Ethereum. \",\n",
       "  ' In this article LONDON — Ether hit an all-time high Thursday as bitcoin\\'s dominance of the cryptocurrency market declined. The world\\'s second-largest digital currency by market value surged to a fresh record of $2,800 on Thursday morning, according to data from Coin Metrics. Bitcoin, the top digital coin, was slightly lower at a price of $54,471. The move comes after the European Investment Bank announced Wednesday that it had issued its first ever digital bond on the Ethereum blockchain, ether\\'s underlying network. This led to speculation that the currency is gaining traction among mainstream financial institutions. Most major cryptocurrencies were trading higher Thursday, boosted by ether\\'s rise. Bitcoin, the most valuable digital coin, is down about 16% from its all-time high of almost $65,000 earlier this month. It has still had a stunning rally, though, climbing almost 90% so far this year, on the back of increased interest from institutional investors and corporate buyers like Tesla. At the same time, some investors have warned of froth in the crypto market. Dogecoin, a meme-inspired digital token, rallied Wednesday after supportive tweets from celebrities like Elon Musk and Mark Cuban. And plenty of other \"altcoins,\" or alternative currencies, have also rallied this year. This led to bitcoin\\'s dominance of the crypto market falling below 50% last week for the first time since August 2018, according to CoinMarketCap. The first time bitcoin\\'s share of the market sank below that level was in 2017, before a huge slump in crypto prices now referred to as a \"crypto winter.\" But bitcoin bulls contend things are different this time, as the rally is being driven by institutional demand rather than retail investors. \"There\\'s just so much hype from the institutions coming in,\" Carol Alexander, professor at the University of Sussex Business School, told CNBC last week. \"Bitcoin is almost like a sort reference point, the numeraire of crypto. I think there\\'s going to be sustained demand as institutional investors become more confident about the market.\" \"Having said that, on the more retail side that used to be in bitcoin, it\\'s not cool anymore,\" Alexander added.',\n",
       "  'Filed under: After it accidentally removed it in an earlier update Nvidia is trying again to limit the use of its RTX 3060 graphics cards for mining Ethereum, with a new update once again adding a hash limiter to the GPU, via VideoCardz.com.  If that sounds familiar to you, that’s because it’s not the first time that Nvidia has tried to nerf mining performance on the RTX 3060 — the company first rolled out new drivers that were intended to limit the hash rate of Ethereum mining by around 50 percent in February.  “We designed GeForce GPUs for gamers, and gamers are clamoring for more,” says Matt Wuebbling, head of global GeForce marketing at Nvidia, in a blog post announcing the change. The company also announced a new product, the Nvidia CMP (Cryptocurrency Mining Processor), a dedicated GPU meant specifically for cryptocurrency mining.  However, that update was short-lived, with Nvidia managing to accidentally unlock its own limit in a beta driver released in March, undoing its previous work. Nvidia would go on to confirm that the new driver was a mistake, but it was already too late — the updated driver was out in the wild, and RTX 3060 owners were able to download it and avoid the new restrictions.  The new GeForce 466.27 driver, though, brings back the original limit and notes that it’ll be required for all future RTX 3060 cards starting in May. Nvidia may be looking to add hash rate limits to other cards, too.  A separate VideoCardz.com report notes that the company is working on an updated version of “LHR” (Lite Hash Rate) GPUs across the other RTX 30-series cards (including the RTX 3060 Ti, 3070, and 3080 models), in order to help discourage cryptocurrency miners from snapping up the limited stock before gaming-focused customers can. Only the top-of-the-line RTX 3090 may be exempt, as the $1,500 price tag already makes it of limited value for mining tasks.  Subscribe to get the best Verge-approved tech deals of the week.',\n",
       "  'A must-watch for investors everywhere. Cryptocurrencies have skyrocketed in popularity recently and this trend shows no signs of slowing. Given all the talk around these digital assets, you might be wondering whether now is the time to invest. But before pulling the trigger, it’s always a good idea to have an understanding of the underlying asset. Cryptocurrency is no exception and it is quite different than investing in stocks or bonds. Read: Dogecoin’s Major Price Increase: Is It a Worthwhile Investment? Therefore, we will cover a popular blockchain technology called Ethereum (ETH). Like many blockchains, Ethereum has a native coin called ether. Let’s take a closer look at what Ethereum is and whether you should consider investing. Ethereum is an open-source, decentralized blockchain technology. Ethereum’s native coin is called ether. This coin is one of the largest cryptocurrencies by market capitalization, second only to Bitcoin (BTC). Although ether has a smaller market cap than Bitcoin, Ethereum is the most widely-used blockchain. See: What Is Chainlink and Why Is It Important in the World of Cryptocurrency? One thing that is important to understand about Ethereum is that it is not the same as Bitcoin. Whereas Bitcoin’s purpose is primarily to be a digital currency, Ethereum is much broader. In fact, Ethereum is an open-source operating system and computing platform. It also supports distributed applications (dApps) and smart contracts. Another key aspect of Ethereum is that it enables decentralized finance, which is an important part of how the system works. Because the system is inherently decentralized, there is not a single entity controlling it or the value of ether. More: How the IRS Taxes Cryptocurrency – and the Loophole That Can Lower Your Tax Bill Like many cryptocurrencies, the price of ether has fluctuated greatly since it launched in 2015. Back then, its price was around $1 and stayed there for several months. The price reached $1,358 in January 2018, its highest price ever at the time. The price began to fall, as did the price of many cryptocurrencies; ether bottomed out at $83 in December 2018. The price has ebbed and',\n",
       "  'Sign up for our newsletters By signing up, you will receive emails about CoinDesk products and you agree to our terms & conditions and privacy policy Sign up for our newsletters By signing up, you will receive emails about CoinDesk products and you agree to our terms & conditions and privacy policy Please consider using a different web browser for better experience. The last time bitcoin traded at this level was almost two weeks ago, on April 17. The derivatives market likely played a role in pushing bitcoin‘s spot market price to a level not seen in almost two weeks. Meanwhile, the ether market seems to be decoupling from bitcoin, for now. Bitcoin’s price made gains Friday. At around 17:00 UTC (12 p.m. ET), the world’s oldest cryptocurrency hit $57,219, according to CoinDesk 20 data. Bitcoin’s price Friday jumped over $4,600 within a 24-hour period, settling a bit as of press time, at $56,996.\\xa0 “One reason we may be seeing the upswing in bitcoin’s price is because of the expiration of $4.2 billion in bitcoin options contracts today,” noted Steve Ehrlich, chief executive officer at investment firm Voyager Digital. “Historically, there have been price dips in the days leading up to a bitcoin options expiry, only for it to rebound thereafter.” For most of this week, bitcoin’s price struggled to make gains. The last time bitcoin traded at the $57,000 level was almost two weeks ago, on April 17. “What we’re experiencing is likely the rebound, which further confirms the continued bullishness around bitcoin,” Ehrlich said.\\xa0 The options expiration may have caused some traders to return to the spot market Friday as buyers pushed the price up, noted Nate Cox, the chief investment officer of crypto brokerage Two Prime. “The majority of long calls and puts for the April monthly contracts are expiring worthless,” Cox said. “Needless to say, bitcoin didn’t move the way many derivative traders expected this month.”\\xa0 Read More: Bitcoin Jumps 6% to $57K as Market Shrugs Off $4B+ Options Expiry This momentum may subside, however. It appears that options traders are not overly bullish on bitcoin',\n",
       "  'Sign up for our newsletters By signing up, you will receive emails about CoinDesk products and you agree to our terms & conditions and privacy policy Sign up for our newsletters By signing up, you will receive emails about CoinDesk products and you agree to our terms & conditions and privacy policy Please consider using a different web browser for better experience. \"The crypto narrative is shifting from bitcoin to ethereum,\" wrote FundStrat,  which placed a $10K price target on ETH for this year.  Ether (ETH), the second-largest cryptocurrency by market cap, could see further gains towards $10,000 this year after reaching a new all-time high around $2,780 on Thursday – a roughly threefold increase forecasted by FundStrat, a market research firm. ETH is up about 40% for the month to date versus a 5% decline for bitcoin (BTC). “We’re maintaining our overweight ethereum vs. bitcoin recommendation from April 2020,” wrote FundStrat in a research note published on Thursday.  Sign up for our newsletters By signing up, you will receive emails about CoinDesk products and you agree to our terms & conditions and privacy policy The leader in blockchain news, CoinDesk is a media outlet that strives for the highest journalistic standards and abides by a strict set of editorial policies. CoinDesk is an independent operating subsidiary of Digital Currency Group, which invests in cryptocurrencies and blockchain startups.'],\n",
       " 'BTC': ['Please stand by, while we are checking your browser... Redirecting... Please enable Cookies and reload the page. Completing the CAPTCHA proves you are a human and gives you temporary access to the web property. If you are on a personal connection, like at home, you can run an anti-virus scan on your device to make sure it is not infected with malware. If you are at an office or shared network, you can ask the network administrator to run a scan across the network looking for misconfigured or infected devices. \\nCloudflare Ray ID: 64939981fa47f005\\n•\\nYour IP: 108.35.111.238\\n•\\nPerformance & security by Cloudflare\\n',\n",
       "  'A must-watch for investors everywhere. Legendary investor Warren Buffett, the CEO of Berkshire Hathaway (BRK-B, BRK-A), and his long-time business partner Charlie Munger dissed bitcoin once more at the annual meeting of shareholders on Saturday.\\xa0 \"I knew there’d be a question on bitcoin, and I thought to myself, \\'Well, I’ve watched these politicians dodge questions all the time, you know, I find it kind of disgusting, but they do it.\\' But the truth is I\\'m gonna dodge that question because we probably got hundreds of thousands of people watching that own bitcoin, and we probably have two people that are short. So we got a choice of making 400,000 people mad at us and unhappy, and, or making two people happy, and that\\'s just a dumb equation.\"\\xa0 The 90-year-old \"Oracle of Omaha\" said his home state of Nebraska had a governor \"a long time ago\" who would get a tough question and he\\'d say, \"I\\'m alright on that one\" without answering.\\xa0 Buffett\\'s partner, Charlie Munger, said bringing up bitcoin is like \"waving the red flag at the bull.\"\\xa0 \"Of course, I hate the bitcoin success and I don’t welcome a currency that’s useful to kidnappers and extortionists, and so forth. Nor do I like just shuffling out of extra billions and billions and billions of dollars to somebody who just invented a new financial product out of thin air. So, I think I should say modestly that I think the whole damn development is disgusting and contrary to the interests of civilization. And I\\'ll leave the criticism to others,\" the 97-year-old said.\\xa0 To that, Buffett joked, \"I\\'m alright on that one.\"\\xa0 Bitcoin’s (BTC-USD) price was trading north of $57,800 at the time of this publication. Full Coverage of Berkshire Hathaway\\'s 2021 Annual Shareholders Meeting It\\'s not the first time the pair of billionaire investors have criticized the cryptocurrency. At the 2018 annual meeting, Buffett called bitcoin \"probably rat poison-squared,\" while Munger called it a \"turd.\" At the time, the cryptocurrency was worth around $9,800.\\xa0 “I think every time you buy a nonproductive asset, you’re counting on somebody else, later on,',\n",
       "  'CryptoQuant chief Ki Young Ju is unveiling how Bitcoin whales are playing the market as BTC consolidates between $50,000 and $60,000. In a new tweet, the head of the on-chain analytics platform says that he’s witnessing large Bitcoin transfers that are likely happening over the counter (OTC). “Whales have been accumulating BTC. Massive Bitcoins have transferred, but these transactions are not from exchanges. Possibly OTC deals. NVT golden cross remains very low, meaning transaction volume is big compared to the market cap.” According to CryptoQuant, the NVT (Network to Value Transactions) golden cross is a signal that indicates the formation of a local top or bottom. A value below -1.6 suggests that Bitcoin may be poised for a strong leg up. At the end of April, the NVT golden cross metric had a value of -2.95. “NVT Golden Cross indicator hit a year low. BTC has upside potential from the perspective of the NVT valuation model.” In addition, Ki highlights that whales are transferring BTC to derivative exchanges, indicating that they might bet on Bitcoin’s ascent in the short term. “A significant amount of BTC moved to derivative exchanges from other exchanges, meaning whales might open a long position by using their BTC as collateral. This happened in the dip.” Another signal that indicates massive whale accumulation according to Ki is the surging Coinbase premium, which he says is a sign that institutional investors are buying Bitcoin. “Institutions like Tesla use Coinbase Prime brokerage to buy or sell BTC. It would be bulk orders that can affect BTC price. Coinbase premium has been negative/neutral for the past 7 weeks, but it turned positive lately, hitting an all-time high a week ago. Long-term bullish.” The bullish on-chain signals come as Bitcoin recovers from a nearly fifty-day low\\xa0of $47,159.49. At time of writing, Bitcoin is trading at $57,499, up over 14% in the past week, according to CoinMarketCap. Featured Image: Shutterstock/sutadimages Cryptocurrency news and analysis, covering Bitcoin, Ethereum, Ripple, XRP, altcoins and blockchain technology Categories Bitcoin • Ethereum • Trading •\\nRipple and XRP •\\xa0Altcoins •\\nBlockchain •\\xa0Regulators •\\nScams •\\xa0Crypto101 • HodlX • Explore\\xa0•\\xa0Futuremash',\n",
       "  ' Berkshire Hathaway\\xa0Vice Chairman Charlie Munger\\'s disdain toward bitcoin has only intensified amid the digital asset\\'s record run this year. \"Of course I hate the bitcoin success,\" the 97-year-old Munger said during a Q&A session at Berkshire\\'s annual shareholder meeting Saturday. \"I don\\'t welcome a currency that\\'s so useful to kidnappers and extortionists and so forth, nor do I like just shuffling out of your extra billions of billions of dollars to somebody who just invented a new financial product out of thin air.\" \"I think I should say modestly that the whole damn development is disgusting and contrary to the interests of civilization,\" said Munger, a legendary investor in his own right. Warren Buffett, who avoided the initial question on bitcoin earlier, responded to Munger\\'s answer: \"I\\'m alright on that one.\" The \"Oracle of Omaha\" said he didn\\'t want to comment directly on the digital token because he didn\\'t want to get grief from everyone who is long. The world\\'s largest cryptocurrency enjoyed a head-turning rally this year, topping $60,000 apiece in April as involvement from Tesla to major Wall Street banks made bitcoin mainstream. Tesla recently\\xa0made a $1.5 billion bet on bitcoin\\xa0and now\\xa0accepts the digital currency as a method of payment\\xa0for its cars. Meanwhile,\\xa0Goldman Sachs\\xa0and\\xa0Morgan Stanley\\xa0are\\xa0looking to offer their wealthy clients some exposure to bitcoin. Bitcoin last traded above $57,000, up from about $30,000 at the start of 2021, according to Coin Metrics. Munger has long criticized bitcoin for its extreme volatility and a lack of regulation. At the annual shareholders meeting for Daily Journal in February, Munger said bitcoin is too volatile to serve well as a medium of exchange. \"It\\'s really kind of an artificial substitute for gold. And since I never buy any gold, I never buy any bitcoin,\" Munger said then. \"Bitcoin reminds me of what Oscar Wilde said about fox hunting. He said it was the pursuit of the uneatable by the unspeakable,\" he added. Enjoyed this article?For exclusive stock picks, investment ideas and CNBC global livestreamSign up for\\xa0CNBC ProStart your\\xa0free trial now Got a confidential news tip? We want to hear from',\n",
       "  '© 2020 Fortune Media IP Limited. All Rights Reserved. Use of this site constitutes acceptance of our Terms of Use and Privacy Policy | CA Notice at Collection and Privacy Notice\\xa0| Do Not Sell My Personal Information\\xa0| Ad Choices\\xa0\\nFORTUNE is a trademark of Fortune Media IP Limited, registered in the U.S. and other countries. FORTUNE may receive compensation for some links to products and services on this website. Offers may be subject to change without notice.\\nQuotes delayed at least 15 minutes. Market data provided by Interactive Data. ETF and Mutual Fund data provided by Morningstar, Inc. Dow Jones Terms & Conditions: http://www.djindexes.com/mdsidx/html/tandc/indexestandcs.html.\\nS&P Index data is the property of Chicago Mercantile Exchange Inc. and its licensors. All rights reserved. Terms & Conditions. Powered and implemented by Interactive Data Managed Solutions.',\n",
       "  \"By Paul R. La Monica, CNN Business  Updated 4:54 PM ET, Sat May 1, 2021  New York (CNN Business)Bitcoin prices continued their rebound Saturday, rising about 6% to nearly $58,000. But the world's largest cryptocurrency has been overshadowed lately by its younger sibling, Ethereum. \",\n",
       "  '\\r\\n            © 2021 Insider Inc. and finanzen.net GmbH (Imprint). All rights reserved.\\r\\n         \\r\\n            Registration on or use of this site constitutes acceptance of our Terms of Service and Privacy Policy.\\r\\n         \\nDisclaimer |\\r\\n            Commerce Policy |\\r\\n            Made In NYC |\\r\\n            Stock quotes by finanzen.net\\n NurPhoto/Getty Images Bitcoin\\'s fast-growing popularity, increasingly elevated profile in corporate America and swelling market capitalization above $1 trillion have retail and Wall Street investors alike questioning if and when a bitcoin exchange-traded fund can be traded in the US. Those questions are currently before the Securities and Exchange Commission which is being asked in at least nine applications for the green light to launch what could be the first cryptocurrency ETF in the country. But a decision may have to wait at least until mid-June. The SEC this week delayed rendering a decision on a bitcoin ETF from asset manager VanEck that, if cleared, would be listed by CBOE Global Markets. The Commission said it was \"appropriate\" to take more time for consideration. The arrival of a bitcoin ETF in 2021 would follow this month\\'s start of trading in shares of Coinbase, the first cryptocurrency exchange to go public, as well as expanding acceptance of bitcoin as payment methods by companies including electric vehicle maker Tesla. Meanwhile, investment bank JP Morgan is preparing to introduce its first bitcoin fund for wealthy clients. These and other bitcoin developments may signal the increased likelihood that a bitcoin ETF will gain approval, but the SEC has rejected other attempts. Institutions \"are getting in from hedge funds on Wall Street to PayPal, to Venmo, to Visa. So [the SEC] can\\'t really ignore this because the market is deciding that they',\n",
       "  'Berkshire Inc. \\n        BRK.A,\\n        -1.29%\\nBRK.B,\\n        -0.95%\\n       Vice Chairman Charlie Munger isn\\'t warming to bitcoin. Asked about the digital asset\\'s rise at Berkshire\\'s annual meeting on Saturday, Chairman Warren Buffett said he would opt to \"dodge\" the question on the expectation that hundreds of thousands of viewers were likely cryptocurrency holders. However, Munger, also a longtime cryptocurrency skeptic, pulled no punches, comparing the question to waving a red flag in front of a bull: \"Of course I hate the bitcoin success,\" Munger said, in part because of what he called its usefulness to \"kidnappers and extortionists.\" Munger said the \"whole damn development is disgusting and contrary to the interests of civilization, and I\\'ll leave the criticism to others.\"  The last time capital-gains taxes were hiked, in 2013, the wealthiest households sold 1% of their equity assets, a Goldman analyst found.  William Watts is MarketWatch’s senior markets writer. Based in New York, Watts writes about stocks, bonds, currencies and commodities, including oil. He also writes about global macro issues and trading strategies. Before moving to New York, he reported for MarketWatch from Frankfurt, London and Washington, D.C.',\n",
       "  'A reimagination of “Beyond Order” by Jordan Peterson through the lens of Bitcoin. This writing mirrors the exact chronological structure of “Beyond Order,” offering reflection through a Bitcoin lens. This is part 3 of a 12-part series. If you read the book, it adds a second dimension. All quotes credited to Jordan Peterson. All reflections inspired by Satoshi Nakamoto. “Do not pretend you are happy with something if you are not, and if a reasonable solution might, in principle, be negotiated. Have the damn fight.” Governments assume the guise of the savior handing out trillions in stimulus money. When prices rise, they deny. Don’t pretend to be happy with your country’s monetary policy if you are not. The wealthy who already own assets get richer, the middle-class savers lose purchasing power, and the lower class watch the little they have vanish. The government is not here to save you. All currencies are being debased. Central banks are in a race to the bottom. The United States is printing with such intensity the Federal Reserve Bank of St. Louis (FRED) discontinued updates to its M1 Money Stock and M2 Money Stock charts. This censorship hides the unwanted in the fog.  Bitcoin gives the ordinary worker a fighting chance. Check out John Vallis’ podcast on Decentralized Grazing. His guests, UntappedGrowth and BitcoinAndCows, apply the Bitcoin ethos, restoring America’s soil bank, earning self-sovereignty and sidestepping fiat debt. His model forms a mutually beneficial trinity between investors, ranchers and landowners, who serve their own interests but create exponentially more fruit together through the wisdom of low time preference collaboration. That clears the fog. It puts the farmers and ranchers back to being caretakers of the soil instead of strip miners. This allows them to become stewards again because they are providing for themselves not just today but for tomorrow. Landowners by healing the land, herd owners by preserving the heritage cattle, and ranchers by doing the work. All together as one. It’s easier to aim at a brighter future when you step outside the fiat fog.  Have the damn fight, because you',\n",
       "  'Sign up for our newsletters By signing up, you will receive emails about CoinDesk products and you agree to our terms & conditions and privacy policy Sign up for our newsletters By signing up, you will receive emails about CoinDesk products and you agree to our terms & conditions and privacy policy Please consider using a different web browser for better experience. \"The crypto narrative is shifting from bitcoin to ethereum,\" wrote FundStrat,  which placed a $10K price target on ETH for this year.  Ether (ETH), the second-largest cryptocurrency by market cap, could see further gains towards $10,000 this year after reaching a new all-time high around $2,780 on Thursday – a roughly threefold increase forecasted by FundStrat, a market research firm. ETH is up about 40% for the month to date versus a 5% decline for bitcoin (BTC). “We’re maintaining our overweight ethereum vs. bitcoin recommendation from April 2020,” wrote FundStrat in a research note published on Thursday.  Sign up for our newsletters By signing up, you will receive emails about CoinDesk products and you agree to our terms & conditions and privacy policy The leader in blockchain news, CoinDesk is a media outlet that strives for the highest journalistic standards and abides by a strict set of editorial policies. CoinDesk is an independent operating subsidiary of Digital Currency Group, which invests in cryptocurrencies and blockchain startups.']}"
      ]
     },
     "execution_count": 40,
     "metadata": {},
     "output_type": "execute_result"
    }
   ],
   "source": [
    "articles = {ticker:scrape_and_process(cleaned_urls[ticker]) for ticker in monitored_tickers}\n",
    "articles"
   ]
  },
  {
   "cell_type": "code",
   "execution_count": 41,
   "metadata": {},
   "outputs": [
    {
     "data": {
      "text/plain": [
       "'CryptoQuant chief Ki Young Ju is unveiling how Bitcoin whales are playing the market as BTC consolidates between $50,000 and $60,000. In a new tweet, the head of the on-chain analytics platform says that he’s witnessing large Bitcoin transfers that are likely happening over the counter (OTC). “Whales have been accumulating BTC. Massive Bitcoins have transferred, but these transactions are not from exchanges. Possibly OTC deals. NVT golden cross remains very low, meaning transaction volume is big compared to the market cap.” According to CryptoQuant, the NVT (Network to Value Transactions) golden cross is a signal that indicates the formation of a local top or bottom. A value below -1.6 suggests that Bitcoin may be poised for a strong leg up. At the end of April, the NVT golden cross metric had a value of -2.95. “NVT Golden Cross indicator hit a year low. BTC has upside potential from the perspective of the NVT valuation model.” In addition, Ki highlights that whales are transferring BTC to derivative exchanges, indicating that they might bet on Bitcoin’s ascent in the short term. “A significant amount of BTC moved to derivative exchanges from other exchanges, meaning whales might open a long position by using their BTC as collateral. This happened in the dip.” Another signal that indicates massive whale accumulation according to Ki is the surging Coinbase premium, which he says is a sign that institutional investors are buying Bitcoin. “Institutions like Tesla use Coinbase Prime brokerage to buy or sell BTC. It would be bulk orders that can affect BTC price. Coinbase premium has been negative/neutral for the past 7 weeks, but it turned positive lately, hitting an all-time high a week ago. Long-term bullish.” The bullish on-chain signals come as Bitcoin recovers from a nearly fifty-day low\\xa0of $47,159.49. At time of writing, Bitcoin is trading at $57,499, up over 14% in the past week, according to CoinMarketCap. Featured Image: Shutterstock/sutadimages Cryptocurrency news and analysis, covering Bitcoin, Ethereum, Ripple, XRP, altcoins and blockchain technology Categories Bitcoin • Ethereum • Trading •\\nRipple and XRP •\\xa0Altcoins •\\nBlockchain •\\xa0Regulators •\\nScams •\\xa0Crypto101 • HodlX • Explore\\xa0•\\xa0Futuremash'"
      ]
     },
     "execution_count": 41,
     "metadata": {},
     "output_type": "execute_result"
    }
   ],
   "source": [
    "articles['BTC'][2]"
   ]
  },
  {
   "cell_type": "markdown",
   "metadata": {},
   "source": [
    "## 4.4. Summarise all Articles"
   ]
  },
  {
   "cell_type": "code",
   "execution_count": 44,
   "metadata": {},
   "outputs": [],
   "source": [
    "def summarize(articles):\n",
    "    summaries = []\n",
    "    for article in articles:\n",
    "        input_ids = tokenizer.encode(article, return_tensors='pt')\n",
    "        output = model.generate(input_ids, max_length=55, num_beams=5, early_stopping=True)\n",
    "        summary = tokenizer.decode(output[0], skip_special_tokens=True)\n",
    "        summaries.append(summary)\n",
    "    return summaries"
   ]
  },
  {
   "cell_type": "code",
   "execution_count": 46,
   "metadata": {},
   "outputs": [
    {
     "data": {
      "text/plain": [
       "{'DOGE': ['Mark Cuban promoted cryptocurrency on ‘Ellen’. Cuban’s previous comments led to a spike in value',\n",
       "  'Digital currency has more than doubled in value in a matter of months.',\n",
       "  'Analysts say investing too much into cryptocurrency could be a problem. Musk, Cuban have been tweeting about it',\n",
       "  'Coin’s value has more than doubled since the start of the year. Tech innovations have made Dogecoin a serious money-maker',\n",
       "  'Dogecoin is adding almost 50% to its price this week. Ethereum is up more than three-fold from the start of the year',\n",
       "  '\"You are seeing things that are a bit frothy, that’s a fact,\" said Powell. Fed chief upbeat on U.S. economic recovery, well-capitalized banks',\n",
       "  'Largest cryptocurrency has gained over 7,500% on a year-to-date basis.',\n",
       "  'Founder of Galaxy Digital says crypto will make up 2% of global wealth.',\n",
       "  '‘Some of the asset prices are high,’ Fed chair says. ‘Overall financial stability picture is mixed,’ he says',\n",
       "  'Shares of Tesla could see a reaction on Monday, May 10. Musk’s appearance could be a chance to promote the meme coin'],\n",
       " 'ETH': ['Ethereum touches an intraday low of $2,672.11 before hitting an all-time high. Dogecoin finds stability around the 30 cent mark',\n",
       "  'Ethereum rallies to late morning high $2,800, settles short of first major resistance level.',\n",
       "  'Dogecoin is adding almost 50% to its price this week. Ethereum is up more than three-fold from the start of the year',\n",
       "  'BNB comes close to hitting an all-time high today, is up 20% from last week’s crash. BSC-based exchange transacted more than four DEXs on Ethereum',\n",
       "  'Ethereum has been gaining ground in recent weeks.',\n",
       "  'Ether hit record after EIB issues first digital bond. Bitcoin still dominates crypto market, but shares have fallen',\n",
       "  'New GeForce 466.27 driver adds hashing limit for 3060 cards. Previously, Nvidia tried to limit mining performance on the card',\n",
       "  'Ethereum is the second-largest cryptocurrency by market cap. Ether price has fluctuated greatly since 2015',\n",
       "  'Bitcoin’s price jumped over $4,600 within a 24-hour period. The last time bitcoin traded at this level was almost two weeks',\n",
       "  'FundStrat sets a $10K price target on the cryptocurrency. Ethereum is up about 40% for the month to date versus 5% decline for bitcoin'],\n",
       " 'BTC': ['Check the anti-virus settings on your device.',\n",
       "  'The 90-year-old ‘Oracle of Omaha’ called the cryptocurrency ‘disgusting’. Buffett says bringing up the currency is like ‘waving the red flag at the bull',\n",
       "  'Analytics platform CryptoQuant sees ‘massive’ Bitcoin transfers. Golden cross indicator hit a year low at the end of April',\n",
       "  '\"I don\\'t welcome a currency that\\'s so useful to kidnappers and extortionists,\\'\" he says.',\n",
       "  'A look at some of the biggest winners and losers in the stock market this year.',\n",
       "  'Ethereum has been gaining ground in recent weeks.',\n",
       "  'SEC delayed rendering decision on VanEck fund this week',\n",
       "  '‘Of course I hate the bitcoin success,’ Vice Chairman says. Buffett’s company has no exposure to cryptocurrency',\n",
       "  'This is part 3 of a 12-part series. All quotes inspired by Satoshi Nakamoto',\n",
       "  'FundStrat sets a $10K price target on the cryptocurrency. Ethereum is up about 40% for the month to date versus 5% decline for bitcoin']}"
      ]
     },
     "execution_count": 46,
     "metadata": {},
     "output_type": "execute_result"
    }
   ],
   "source": [
    "summaries = {ticker:summarize(articles[ticker]) for ticker in monitored_tickers}\n",
    "summaries"
   ]
  },
  {
   "cell_type": "code",
   "execution_count": 47,
   "metadata": {},
   "outputs": [
    {
     "data": {
      "text/plain": [
       "['Check the anti-virus settings on your device.',\n",
       " 'The 90-year-old ‘Oracle of Omaha’ called the cryptocurrency ‘disgusting’. Buffett says bringing up the currency is like ‘waving the red flag at the bull',\n",
       " 'Analytics platform CryptoQuant sees ‘massive’ Bitcoin transfers. Golden cross indicator hit a year low at the end of April',\n",
       " '\"I don\\'t welcome a currency that\\'s so useful to kidnappers and extortionists,\\'\" he says.',\n",
       " 'A look at some of the biggest winners and losers in the stock market this year.',\n",
       " 'Ethereum has been gaining ground in recent weeks.',\n",
       " 'SEC delayed rendering decision on VanEck fund this week',\n",
       " '‘Of course I hate the bitcoin success,’ Vice Chairman says. Buffett’s company has no exposure to cryptocurrency',\n",
       " 'This is part 3 of a 12-part series. All quotes inspired by Satoshi Nakamoto',\n",
       " 'FundStrat sets a $10K price target on the cryptocurrency. Ethereum is up about 40% for the month to date versus 5% decline for bitcoin']"
      ]
     },
     "execution_count": 47,
     "metadata": {},
     "output_type": "execute_result"
    }
   ],
   "source": [
    "summaries['BTC']"
   ]
  },
  {
   "cell_type": "markdown",
   "metadata": {},
   "source": [
    "# 5. Adding Sentiment Analysis"
   ]
  },
  {
   "cell_type": "code",
   "execution_count": 48,
   "metadata": {},
   "outputs": [],
   "source": [
    "from transformers import pipeline\n",
    "sentiment = pipeline('sentiment-analysis')"
   ]
  },
  {
   "cell_type": "code",
   "execution_count": 49,
   "metadata": {},
   "outputs": [
    {
     "data": {
      "text/plain": [
       "[{'label': 'NEGATIVE', 'score': 0.8904660940170288},\n",
       " {'label': 'NEGATIVE', 'score': 0.9969916343688965},\n",
       " {'label': 'POSITIVE', 'score': 0.9822368621826172},\n",
       " {'label': 'NEGATIVE', 'score': 0.9882952570915222},\n",
       " {'label': 'POSITIVE', 'score': 0.9987367391586304},\n",
       " {'label': 'NEGATIVE', 'score': 0.9977512955665588},\n",
       " {'label': 'NEGATIVE', 'score': 0.9923267960548401},\n",
       " {'label': 'NEGATIVE', 'score': 0.9682729244232178},\n",
       " {'label': 'NEGATIVE', 'score': 0.9958792924880981},\n",
       " {'label': 'NEGATIVE', 'score': 0.9975712895393372}]"
      ]
     },
     "execution_count": 49,
     "metadata": {},
     "output_type": "execute_result"
    }
   ],
   "source": [
    "sentiment(summaries['ETH'])"
   ]
  },
  {
   "cell_type": "code",
   "execution_count": 50,
   "metadata": {},
   "outputs": [
    {
     "data": {
      "text/plain": [
       "{'DOGE': [{'label': 'POSITIVE', 'score': 0.9981436729431152},\n",
       "  {'label': 'NEGATIVE', 'score': 0.9414214491844177},\n",
       "  {'label': 'NEGATIVE', 'score': 0.9991558194160461},\n",
       "  {'label': 'POSITIVE', 'score': 0.9993341565132141},\n",
       "  {'label': 'POSITIVE', 'score': 0.9822368621826172},\n",
       "  {'label': 'POSITIVE', 'score': 0.9920030832290649},\n",
       "  {'label': 'POSITIVE', 'score': 0.9810976386070251},\n",
       "  {'label': 'POSITIVE', 'score': 0.9948969483375549},\n",
       "  {'label': 'NEGATIVE', 'score': 0.9983652234077454},\n",
       "  {'label': 'POSITIVE', 'score': 0.9751201272010803}],\n",
       " 'ETH': [{'label': 'NEGATIVE', 'score': 0.8904660940170288},\n",
       "  {'label': 'NEGATIVE', 'score': 0.9969916343688965},\n",
       "  {'label': 'POSITIVE', 'score': 0.9822368621826172},\n",
       "  {'label': 'NEGATIVE', 'score': 0.9882952570915222},\n",
       "  {'label': 'POSITIVE', 'score': 0.9987367391586304},\n",
       "  {'label': 'NEGATIVE', 'score': 0.9977512955665588},\n",
       "  {'label': 'NEGATIVE', 'score': 0.9923267960548401},\n",
       "  {'label': 'NEGATIVE', 'score': 0.9682729244232178},\n",
       "  {'label': 'NEGATIVE', 'score': 0.9958792924880981},\n",
       "  {'label': 'NEGATIVE', 'score': 0.9975712895393372}],\n",
       " 'BTC': [{'label': 'NEGATIVE', 'score': 0.9931948781013489},\n",
       "  {'label': 'NEGATIVE', 'score': 0.9989110827445984},\n",
       "  {'label': 'NEGATIVE', 'score': 0.9996077418327332},\n",
       "  {'label': 'NEGATIVE', 'score': 0.992382287979126},\n",
       "  {'label': 'POSITIVE', 'score': 0.999182403087616},\n",
       "  {'label': 'POSITIVE', 'score': 0.9987367391586304},\n",
       "  {'label': 'NEGATIVE', 'score': 0.9902442097663879},\n",
       "  {'label': 'NEGATIVE', 'score': 0.9996762871742249},\n",
       "  {'label': 'POSITIVE', 'score': 0.6437949538230896},\n",
       "  {'label': 'NEGATIVE', 'score': 0.9975712895393372}]}"
      ]
     },
     "execution_count": 50,
     "metadata": {},
     "output_type": "execute_result"
    }
   ],
   "source": [
    "scores = {ticker:sentiment(summaries[ticker]) for ticker in monitored_tickers}\n",
    "scores"
   ]
  },
  {
   "cell_type": "code",
   "execution_count": 51,
   "metadata": {},
   "outputs": [
    {
     "name": "stdout",
     "output_type": "stream",
     "text": [
      "BNB comes close to hitting an all-time high today, is up 20% from last week’s crash. BSC-based exchange transacted more than four DEXs on Ethereum NEGATIVE 0.9882952570915222\n"
     ]
    }
   ],
   "source": [
    "print(summaries['ETH'][3], scores['ETH'][3]['label'], scores['ETH'][3]['score'])"
   ]
  },
  {
   "cell_type": "code",
   "execution_count": 52,
   "metadata": {},
   "outputs": [
    {
     "data": {
      "text/plain": [
       "0.8904660940170288"
      ]
     },
     "execution_count": 52,
     "metadata": {},
     "output_type": "execute_result"
    }
   ],
   "source": [
    "scores['ETH'][0]['score']"
   ]
  },
  {
   "cell_type": "markdown",
   "metadata": {},
   "source": [
    "# 6. Exporting Results to CSV"
   ]
  },
  {
   "cell_type": "code",
   "execution_count": 53,
   "metadata": {},
   "outputs": [
    {
     "data": {
      "text/plain": [
       "{'DOGE': ['Mark Cuban promoted cryptocurrency on ‘Ellen’. Cuban’s previous comments led to a spike in value',\n",
       "  'Digital currency has more than doubled in value in a matter of months.',\n",
       "  'Analysts say investing too much into cryptocurrency could be a problem. Musk, Cuban have been tweeting about it',\n",
       "  'Coin’s value has more than doubled since the start of the year. Tech innovations have made Dogecoin a serious money-maker',\n",
       "  'Dogecoin is adding almost 50% to its price this week. Ethereum is up more than three-fold from the start of the year',\n",
       "  '\"You are seeing things that are a bit frothy, that’s a fact,\" said Powell. Fed chief upbeat on U.S. economic recovery, well-capitalized banks',\n",
       "  'Largest cryptocurrency has gained over 7,500% on a year-to-date basis.',\n",
       "  'Founder of Galaxy Digital says crypto will make up 2% of global wealth.',\n",
       "  '‘Some of the asset prices are high,’ Fed chair says. ‘Overall financial stability picture is mixed,’ he says',\n",
       "  'Shares of Tesla could see a reaction on Monday, May 10. Musk’s appearance could be a chance to promote the meme coin'],\n",
       " 'ETH': ['Ethereum touches an intraday low of $2,672.11 before hitting an all-time high. Dogecoin finds stability around the 30 cent mark',\n",
       "  'Ethereum rallies to late morning high $2,800, settles short of first major resistance level.',\n",
       "  'Dogecoin is adding almost 50% to its price this week. Ethereum is up more than three-fold from the start of the year',\n",
       "  'BNB comes close to hitting an all-time high today, is up 20% from last week’s crash. BSC-based exchange transacted more than four DEXs on Ethereum',\n",
       "  'Ethereum has been gaining ground in recent weeks.',\n",
       "  'Ether hit record after EIB issues first digital bond. Bitcoin still dominates crypto market, but shares have fallen',\n",
       "  'New GeForce 466.27 driver adds hashing limit for 3060 cards. Previously, Nvidia tried to limit mining performance on the card',\n",
       "  'Ethereum is the second-largest cryptocurrency by market cap. Ether price has fluctuated greatly since 2015',\n",
       "  'Bitcoin’s price jumped over $4,600 within a 24-hour period. The last time bitcoin traded at this level was almost two weeks',\n",
       "  'FundStrat sets a $10K price target on the cryptocurrency. Ethereum is up about 40% for the month to date versus 5% decline for bitcoin'],\n",
       " 'BTC': ['Check the anti-virus settings on your device.',\n",
       "  'The 90-year-old ‘Oracle of Omaha’ called the cryptocurrency ‘disgusting’. Buffett says bringing up the currency is like ‘waving the red flag at the bull',\n",
       "  'Analytics platform CryptoQuant sees ‘massive’ Bitcoin transfers. Golden cross indicator hit a year low at the end of April',\n",
       "  '\"I don\\'t welcome a currency that\\'s so useful to kidnappers and extortionists,\\'\" he says.',\n",
       "  'A look at some of the biggest winners and losers in the stock market this year.',\n",
       "  'Ethereum has been gaining ground in recent weeks.',\n",
       "  'SEC delayed rendering decision on VanEck fund this week',\n",
       "  '‘Of course I hate the bitcoin success,’ Vice Chairman says. Buffett’s company has no exposure to cryptocurrency',\n",
       "  'This is part 3 of a 12-part series. All quotes inspired by Satoshi Nakamoto',\n",
       "  'FundStrat sets a $10K price target on the cryptocurrency. Ethereum is up about 40% for the month to date versus 5% decline for bitcoin']}"
      ]
     },
     "execution_count": 53,
     "metadata": {},
     "output_type": "execute_result"
    }
   ],
   "source": [
    "summaries"
   ]
  },
  {
   "cell_type": "code",
   "execution_count": 54,
   "metadata": {},
   "outputs": [
    {
     "data": {
      "text/plain": [
       "{'DOGE': [{'label': 'POSITIVE', 'score': 0.9981436729431152},\n",
       "  {'label': 'NEGATIVE', 'score': 0.9414214491844177},\n",
       "  {'label': 'NEGATIVE', 'score': 0.9991558194160461},\n",
       "  {'label': 'POSITIVE', 'score': 0.9993341565132141},\n",
       "  {'label': 'POSITIVE', 'score': 0.9822368621826172},\n",
       "  {'label': 'POSITIVE', 'score': 0.9920030832290649},\n",
       "  {'label': 'POSITIVE', 'score': 0.9810976386070251},\n",
       "  {'label': 'POSITIVE', 'score': 0.9948969483375549},\n",
       "  {'label': 'NEGATIVE', 'score': 0.9983652234077454},\n",
       "  {'label': 'POSITIVE', 'score': 0.9751201272010803}],\n",
       " 'ETH': [{'label': 'NEGATIVE', 'score': 0.8904660940170288},\n",
       "  {'label': 'NEGATIVE', 'score': 0.9969916343688965},\n",
       "  {'label': 'POSITIVE', 'score': 0.9822368621826172},\n",
       "  {'label': 'NEGATIVE', 'score': 0.9882952570915222},\n",
       "  {'label': 'POSITIVE', 'score': 0.9987367391586304},\n",
       "  {'label': 'NEGATIVE', 'score': 0.9977512955665588},\n",
       "  {'label': 'NEGATIVE', 'score': 0.9923267960548401},\n",
       "  {'label': 'NEGATIVE', 'score': 0.9682729244232178},\n",
       "  {'label': 'NEGATIVE', 'score': 0.9958792924880981},\n",
       "  {'label': 'NEGATIVE', 'score': 0.9975712895393372}],\n",
       " 'BTC': [{'label': 'NEGATIVE', 'score': 0.9931948781013489},\n",
       "  {'label': 'NEGATIVE', 'score': 0.9989110827445984},\n",
       "  {'label': 'NEGATIVE', 'score': 0.9996077418327332},\n",
       "  {'label': 'NEGATIVE', 'score': 0.992382287979126},\n",
       "  {'label': 'POSITIVE', 'score': 0.999182403087616},\n",
       "  {'label': 'POSITIVE', 'score': 0.9987367391586304},\n",
       "  {'label': 'NEGATIVE', 'score': 0.9902442097663879},\n",
       "  {'label': 'NEGATIVE', 'score': 0.9996762871742249},\n",
       "  {'label': 'POSITIVE', 'score': 0.6437949538230896},\n",
       "  {'label': 'NEGATIVE', 'score': 0.9975712895393372}]}"
      ]
     },
     "execution_count": 54,
     "metadata": {},
     "output_type": "execute_result"
    }
   ],
   "source": [
    "scores"
   ]
  },
  {
   "cell_type": "code",
   "execution_count": 55,
   "metadata": {},
   "outputs": [
    {
     "data": {
      "text/plain": [
       "{'DOGE': ['https://www.deseret.com/2021/5/1/22411726/dogecoin-mark-cuban-investment-prediction',\n",
       "  'https://www.fool.com/investing/2021/04/29/5-reasons-to-avoid-dogecoin-like-the-plague/',\n",
       "  'https://www.deseret.com/u-s-world/2021/4/29/22409512/dogecoin-all-time-high-record',\n",
       "  'https://finance.yahoo.com/news/dogecoin-dead-elon-musk-mark-194114001.html',\n",
       "  'https://www.forbes.com/sites/billybambrough/2021/05/01/ethereum-is-suddenly-rocketing-but-dogecoin-is-still-the-crypto-price-king/',\n",
       "  'https://www.coindesk.com/dogecoin-federal-reserve-chairman-jerome-powell-capital-markets',\n",
       "  'https://www.benzinga.com/markets/cryptocurrency/21/05/20904133/how-is-doge-looking-a-week-away-from-elon-musks-may-8-saturday-night-live-appearance',\n",
       "  'https://markets.businessinsider.com/currencies/news/mike-novogratz-xrp-ripple-dogecoin-bitcoin-insurance-crypto-investments-2021-4-1030373300',\n",
       "  'https://www.deseret.com/u-s-world/2021/4/30/22409494/dogecoin-stable-investment-price',\n",
       "  'https://www.benzinga.com/markets/cryptocurrency/21/05/20827000/could-elon-musks-snl-hosting-cause-a-bump-in-tesla-or-dogecoin'],\n",
       " 'ETH': ['https://www.benzinga.com/markets/cryptocurrency/21/04/20881404/polygon-matic-hits-all-time-high-ethereum-retreats-and-dogecoin-finds-stability-since-musk',\n",
       "  'https://finance.yahoo.com/news/ethereum-litecoin-ripple-xrp-daily-001639450.html',\n",
       "  'https://www.forbes.com/sites/billybambrough/2021/05/01/ethereum-is-suddenly-rocketing-but-dogecoin-is-still-the-crypto-price-king/',\n",
       "  'https://finance.yahoo.com/news/binance-smart-chain-defi-tvl-133100709.html',\n",
       "  'https://www.cnn.com/2021/05/01/investing/ethereum-bitcoin-record-high/index.html',\n",
       "  'https://www.cnbc.com/2021/04/29/bitcoin-btc-ethereum-eth-cryptocurrency-price-hits-record-high.html',\n",
       "  'https://www.theverge.com/2021/4/29/22409838/nvidia-rtx-3060-etherium-cryptocurrency-mining-limit-back-driver-update',\n",
       "  'https://finance.yahoo.com/news/ethereum-price-surge-know-decide-110011253.html',\n",
       "  'https://www.coindesk.com/market-wrap-bitcoin-57k-expirations-ether-steadies',\n",
       "  'https://www.coindesk.com/ether-price-target-10k-fundstrat'],\n",
       " 'BTC': ['https://cointelegraph.com/news/top-5-cryptocurrencies-to-watch-this-week-btc-sol-ht-etc-aave',\n",
       "  'https://finance.yahoo.com/news/buffett-and-munger-on-bitcoin-213317653.html',\n",
       "  'https://dailyhodl.com/2021/05/02/bitcoin-whale-behavior-shows-massive-btc-accumulation-above-50000-says-cryptoquant-ceo/',\n",
       "  'https://www.cnbc.com/2021/05/01/charlie-munger-calls-bitcoin-disgusting-and-contrary-to-the-interests-of-civilization.html',\n",
       "  'https://fortune.com/2021/05/02/bitcoin-mining-hashrate-china-inner-mongolia-ban/',\n",
       "  'https://www.cnn.com/2021/05/01/investing/ethereum-bitcoin-record-high/index.html',\n",
       "  'https://markets.businessinsider.com/currencies/news/bitcoin-etf-sec-approval-us-launch-volatility-market-gensler-2021-4-1030374430',\n",
       "  'https://www.marketwatch.com/story/berkshires-munger-bitcoin-rise-disgusting-and-contrary-to-interests-of-civilization-2021-05-01',\n",
       "  'https://bitcoinmagazine.com/culture/bitcoin-illuminates-inflation-prices',\n",
       "  'https://www.coindesk.com/ether-price-target-10k-fundstrat']}"
      ]
     },
     "execution_count": 55,
     "metadata": {},
     "output_type": "execute_result"
    }
   ],
   "source": [
    "cleaned_urls"
   ]
  },
  {
   "cell_type": "code",
   "execution_count": 56,
   "metadata": {},
   "outputs": [
    {
     "data": {
      "text/plain": [
       "range(0, 10)"
      ]
     },
     "execution_count": 56,
     "metadata": {},
     "output_type": "execute_result"
    }
   ],
   "source": [
    "range(len(summaries['ETH']))"
   ]
  },
  {
   "cell_type": "code",
   "execution_count": 57,
   "metadata": {},
   "outputs": [
    {
     "data": {
      "text/plain": [
       "'BNB comes close to hitting an all-time high today, is up 20% from last week’s crash. BSC-based exchange transacted more than four DEXs on Ethereum'"
      ]
     },
     "execution_count": 57,
     "metadata": {},
     "output_type": "execute_result"
    }
   ],
   "source": [
    "summaries['ETH'][3]"
   ]
  },
  {
   "cell_type": "code",
   "execution_count": 58,
   "metadata": {},
   "outputs": [],
   "source": [
    "def create_output_array(summaries, scores, urls):\n",
    "    output = []\n",
    "    for ticker in monitored_tickers:\n",
    "        for counter in range(len(summaries[ticker])):\n",
    "            output_this = [\n",
    "                ticker,\n",
    "                summaries[ticker][counter],\n",
    "                scores[ticker][counter]['label'],\n",
    "                scores[ticker][counter]['score'],\n",
    "                urls[ticker][counter]\n",
    "            ]\n",
    "            output.append(output_this)\n",
    "    return output"
   ]
  },
  {
   "cell_type": "code",
   "execution_count": 59,
   "metadata": {},
   "outputs": [
    {
     "data": {
      "text/plain": [
       "[['DOGE',\n",
       "  'Mark Cuban promoted cryptocurrency on ‘Ellen’. Cuban’s previous comments led to a spike in value',\n",
       "  'POSITIVE',\n",
       "  0.9981436729431152,\n",
       "  'https://www.deseret.com/2021/5/1/22411726/dogecoin-mark-cuban-investment-prediction'],\n",
       " ['DOGE',\n",
       "  'Digital currency has more than doubled in value in a matter of months.',\n",
       "  'NEGATIVE',\n",
       "  0.9414214491844177,\n",
       "  'https://www.fool.com/investing/2021/04/29/5-reasons-to-avoid-dogecoin-like-the-plague/'],\n",
       " ['DOGE',\n",
       "  'Analysts say investing too much into cryptocurrency could be a problem. Musk, Cuban have been tweeting about it',\n",
       "  'NEGATIVE',\n",
       "  0.9991558194160461,\n",
       "  'https://www.deseret.com/u-s-world/2021/4/29/22409512/dogecoin-all-time-high-record'],\n",
       " ['DOGE',\n",
       "  'Coin’s value has more than doubled since the start of the year. Tech innovations have made Dogecoin a serious money-maker',\n",
       "  'POSITIVE',\n",
       "  0.9993341565132141,\n",
       "  'https://finance.yahoo.com/news/dogecoin-dead-elon-musk-mark-194114001.html'],\n",
       " ['DOGE',\n",
       "  'Dogecoin is adding almost 50% to its price this week. Ethereum is up more than three-fold from the start of the year',\n",
       "  'POSITIVE',\n",
       "  0.9822368621826172,\n",
       "  'https://www.forbes.com/sites/billybambrough/2021/05/01/ethereum-is-suddenly-rocketing-but-dogecoin-is-still-the-crypto-price-king/'],\n",
       " ['DOGE',\n",
       "  '\"You are seeing things that are a bit frothy, that’s a fact,\" said Powell. Fed chief upbeat on U.S. economic recovery, well-capitalized banks',\n",
       "  'POSITIVE',\n",
       "  0.9920030832290649,\n",
       "  'https://www.coindesk.com/dogecoin-federal-reserve-chairman-jerome-powell-capital-markets'],\n",
       " ['DOGE',\n",
       "  'Largest cryptocurrency has gained over 7,500% on a year-to-date basis.',\n",
       "  'POSITIVE',\n",
       "  0.9810976386070251,\n",
       "  'https://www.benzinga.com/markets/cryptocurrency/21/05/20904133/how-is-doge-looking-a-week-away-from-elon-musks-may-8-saturday-night-live-appearance'],\n",
       " ['DOGE',\n",
       "  'Founder of Galaxy Digital says crypto will make up 2% of global wealth.',\n",
       "  'POSITIVE',\n",
       "  0.9948969483375549,\n",
       "  'https://markets.businessinsider.com/currencies/news/mike-novogratz-xrp-ripple-dogecoin-bitcoin-insurance-crypto-investments-2021-4-1030373300'],\n",
       " ['DOGE',\n",
       "  '‘Some of the asset prices are high,’ Fed chair says. ‘Overall financial stability picture is mixed,’ he says',\n",
       "  'NEGATIVE',\n",
       "  0.9983652234077454,\n",
       "  'https://www.deseret.com/u-s-world/2021/4/30/22409494/dogecoin-stable-investment-price'],\n",
       " ['DOGE',\n",
       "  'Shares of Tesla could see a reaction on Monday, May 10. Musk’s appearance could be a chance to promote the meme coin',\n",
       "  'POSITIVE',\n",
       "  0.9751201272010803,\n",
       "  'https://www.benzinga.com/markets/cryptocurrency/21/05/20827000/could-elon-musks-snl-hosting-cause-a-bump-in-tesla-or-dogecoin'],\n",
       " ['ETH',\n",
       "  'Ethereum touches an intraday low of $2,672.11 before hitting an all-time high. Dogecoin finds stability around the 30 cent mark',\n",
       "  'NEGATIVE',\n",
       "  0.8904660940170288,\n",
       "  'https://www.benzinga.com/markets/cryptocurrency/21/04/20881404/polygon-matic-hits-all-time-high-ethereum-retreats-and-dogecoin-finds-stability-since-musk'],\n",
       " ['ETH',\n",
       "  'Ethereum rallies to late morning high $2,800, settles short of first major resistance level.',\n",
       "  'NEGATIVE',\n",
       "  0.9969916343688965,\n",
       "  'https://finance.yahoo.com/news/ethereum-litecoin-ripple-xrp-daily-001639450.html'],\n",
       " ['ETH',\n",
       "  'Dogecoin is adding almost 50% to its price this week. Ethereum is up more than three-fold from the start of the year',\n",
       "  'POSITIVE',\n",
       "  0.9822368621826172,\n",
       "  'https://www.forbes.com/sites/billybambrough/2021/05/01/ethereum-is-suddenly-rocketing-but-dogecoin-is-still-the-crypto-price-king/'],\n",
       " ['ETH',\n",
       "  'BNB comes close to hitting an all-time high today, is up 20% from last week’s crash. BSC-based exchange transacted more than four DEXs on Ethereum',\n",
       "  'NEGATIVE',\n",
       "  0.9882952570915222,\n",
       "  'https://finance.yahoo.com/news/binance-smart-chain-defi-tvl-133100709.html'],\n",
       " ['ETH',\n",
       "  'Ethereum has been gaining ground in recent weeks.',\n",
       "  'POSITIVE',\n",
       "  0.9987367391586304,\n",
       "  'https://www.cnn.com/2021/05/01/investing/ethereum-bitcoin-record-high/index.html'],\n",
       " ['ETH',\n",
       "  'Ether hit record after EIB issues first digital bond. Bitcoin still dominates crypto market, but shares have fallen',\n",
       "  'NEGATIVE',\n",
       "  0.9977512955665588,\n",
       "  'https://www.cnbc.com/2021/04/29/bitcoin-btc-ethereum-eth-cryptocurrency-price-hits-record-high.html'],\n",
       " ['ETH',\n",
       "  'New GeForce 466.27 driver adds hashing limit for 3060 cards. Previously, Nvidia tried to limit mining performance on the card',\n",
       "  'NEGATIVE',\n",
       "  0.9923267960548401,\n",
       "  'https://www.theverge.com/2021/4/29/22409838/nvidia-rtx-3060-etherium-cryptocurrency-mining-limit-back-driver-update'],\n",
       " ['ETH',\n",
       "  'Ethereum is the second-largest cryptocurrency by market cap. Ether price has fluctuated greatly since 2015',\n",
       "  'NEGATIVE',\n",
       "  0.9682729244232178,\n",
       "  'https://finance.yahoo.com/news/ethereum-price-surge-know-decide-110011253.html'],\n",
       " ['ETH',\n",
       "  'Bitcoin’s price jumped over $4,600 within a 24-hour period. The last time bitcoin traded at this level was almost two weeks',\n",
       "  'NEGATIVE',\n",
       "  0.9958792924880981,\n",
       "  'https://www.coindesk.com/market-wrap-bitcoin-57k-expirations-ether-steadies'],\n",
       " ['ETH',\n",
       "  'FundStrat sets a $10K price target on the cryptocurrency. Ethereum is up about 40% for the month to date versus 5% decline for bitcoin',\n",
       "  'NEGATIVE',\n",
       "  0.9975712895393372,\n",
       "  'https://www.coindesk.com/ether-price-target-10k-fundstrat'],\n",
       " ['BTC',\n",
       "  'Check the anti-virus settings on your device.',\n",
       "  'NEGATIVE',\n",
       "  0.9931948781013489,\n",
       "  'https://cointelegraph.com/news/top-5-cryptocurrencies-to-watch-this-week-btc-sol-ht-etc-aave'],\n",
       " ['BTC',\n",
       "  'The 90-year-old ‘Oracle of Omaha’ called the cryptocurrency ‘disgusting’. Buffett says bringing up the currency is like ‘waving the red flag at the bull',\n",
       "  'NEGATIVE',\n",
       "  0.9989110827445984,\n",
       "  'https://finance.yahoo.com/news/buffett-and-munger-on-bitcoin-213317653.html'],\n",
       " ['BTC',\n",
       "  'Analytics platform CryptoQuant sees ‘massive’ Bitcoin transfers. Golden cross indicator hit a year low at the end of April',\n",
       "  'NEGATIVE',\n",
       "  0.9996077418327332,\n",
       "  'https://dailyhodl.com/2021/05/02/bitcoin-whale-behavior-shows-massive-btc-accumulation-above-50000-says-cryptoquant-ceo/'],\n",
       " ['BTC',\n",
       "  '\"I don\\'t welcome a currency that\\'s so useful to kidnappers and extortionists,\\'\" he says.',\n",
       "  'NEGATIVE',\n",
       "  0.992382287979126,\n",
       "  'https://www.cnbc.com/2021/05/01/charlie-munger-calls-bitcoin-disgusting-and-contrary-to-the-interests-of-civilization.html'],\n",
       " ['BTC',\n",
       "  'A look at some of the biggest winners and losers in the stock market this year.',\n",
       "  'POSITIVE',\n",
       "  0.999182403087616,\n",
       "  'https://fortune.com/2021/05/02/bitcoin-mining-hashrate-china-inner-mongolia-ban/'],\n",
       " ['BTC',\n",
       "  'Ethereum has been gaining ground in recent weeks.',\n",
       "  'POSITIVE',\n",
       "  0.9987367391586304,\n",
       "  'https://www.cnn.com/2021/05/01/investing/ethereum-bitcoin-record-high/index.html'],\n",
       " ['BTC',\n",
       "  'SEC delayed rendering decision on VanEck fund this week',\n",
       "  'NEGATIVE',\n",
       "  0.9902442097663879,\n",
       "  'https://markets.businessinsider.com/currencies/news/bitcoin-etf-sec-approval-us-launch-volatility-market-gensler-2021-4-1030374430'],\n",
       " ['BTC',\n",
       "  '‘Of course I hate the bitcoin success,’ Vice Chairman says. Buffett’s company has no exposure to cryptocurrency',\n",
       "  'NEGATIVE',\n",
       "  0.9996762871742249,\n",
       "  'https://www.marketwatch.com/story/berkshires-munger-bitcoin-rise-disgusting-and-contrary-to-interests-of-civilization-2021-05-01'],\n",
       " ['BTC',\n",
       "  'This is part 3 of a 12-part series. All quotes inspired by Satoshi Nakamoto',\n",
       "  'POSITIVE',\n",
       "  0.6437949538230896,\n",
       "  'https://bitcoinmagazine.com/culture/bitcoin-illuminates-inflation-prices'],\n",
       " ['BTC',\n",
       "  'FundStrat sets a $10K price target on the cryptocurrency. Ethereum is up about 40% for the month to date versus 5% decline for bitcoin',\n",
       "  'NEGATIVE',\n",
       "  0.9975712895393372,\n",
       "  'https://www.coindesk.com/ether-price-target-10k-fundstrat']]"
      ]
     },
     "execution_count": 59,
     "metadata": {},
     "output_type": "execute_result"
    }
   ],
   "source": [
    "final_output = create_output_array(summaries, scores, cleaned_urls)\n",
    "final_output"
   ]
  },
  {
   "cell_type": "code",
   "execution_count": 60,
   "metadata": {},
   "outputs": [],
   "source": [
    "final_output.insert(0, ['Ticker', 'Summary', 'Label', 'Confidence', 'URL'])"
   ]
  },
  {
   "cell_type": "code",
   "execution_count": 61,
   "metadata": {},
   "outputs": [
    {
     "data": {
      "text/plain": [
       "[['Ticker', 'Summary', 'Label', 'Confidence', 'URL'],\n",
       " ['DOGE',\n",
       "  'Mark Cuban promoted cryptocurrency on ‘Ellen’. Cuban’s previous comments led to a spike in value',\n",
       "  'POSITIVE',\n",
       "  0.9981436729431152,\n",
       "  'https://www.deseret.com/2021/5/1/22411726/dogecoin-mark-cuban-investment-prediction'],\n",
       " ['DOGE',\n",
       "  'Digital currency has more than doubled in value in a matter of months.',\n",
       "  'NEGATIVE',\n",
       "  0.9414214491844177,\n",
       "  'https://www.fool.com/investing/2021/04/29/5-reasons-to-avoid-dogecoin-like-the-plague/'],\n",
       " ['DOGE',\n",
       "  'Analysts say investing too much into cryptocurrency could be a problem. Musk, Cuban have been tweeting about it',\n",
       "  'NEGATIVE',\n",
       "  0.9991558194160461,\n",
       "  'https://www.deseret.com/u-s-world/2021/4/29/22409512/dogecoin-all-time-high-record'],\n",
       " ['DOGE',\n",
       "  'Coin’s value has more than doubled since the start of the year. Tech innovations have made Dogecoin a serious money-maker',\n",
       "  'POSITIVE',\n",
       "  0.9993341565132141,\n",
       "  'https://finance.yahoo.com/news/dogecoin-dead-elon-musk-mark-194114001.html'],\n",
       " ['DOGE',\n",
       "  'Dogecoin is adding almost 50% to its price this week. Ethereum is up more than three-fold from the start of the year',\n",
       "  'POSITIVE',\n",
       "  0.9822368621826172,\n",
       "  'https://www.forbes.com/sites/billybambrough/2021/05/01/ethereum-is-suddenly-rocketing-but-dogecoin-is-still-the-crypto-price-king/'],\n",
       " ['DOGE',\n",
       "  '\"You are seeing things that are a bit frothy, that’s a fact,\" said Powell. Fed chief upbeat on U.S. economic recovery, well-capitalized banks',\n",
       "  'POSITIVE',\n",
       "  0.9920030832290649,\n",
       "  'https://www.coindesk.com/dogecoin-federal-reserve-chairman-jerome-powell-capital-markets'],\n",
       " ['DOGE',\n",
       "  'Largest cryptocurrency has gained over 7,500% on a year-to-date basis.',\n",
       "  'POSITIVE',\n",
       "  0.9810976386070251,\n",
       "  'https://www.benzinga.com/markets/cryptocurrency/21/05/20904133/how-is-doge-looking-a-week-away-from-elon-musks-may-8-saturday-night-live-appearance'],\n",
       " ['DOGE',\n",
       "  'Founder of Galaxy Digital says crypto will make up 2% of global wealth.',\n",
       "  'POSITIVE',\n",
       "  0.9948969483375549,\n",
       "  'https://markets.businessinsider.com/currencies/news/mike-novogratz-xrp-ripple-dogecoin-bitcoin-insurance-crypto-investments-2021-4-1030373300'],\n",
       " ['DOGE',\n",
       "  '‘Some of the asset prices are high,’ Fed chair says. ‘Overall financial stability picture is mixed,’ he says',\n",
       "  'NEGATIVE',\n",
       "  0.9983652234077454,\n",
       "  'https://www.deseret.com/u-s-world/2021/4/30/22409494/dogecoin-stable-investment-price'],\n",
       " ['DOGE',\n",
       "  'Shares of Tesla could see a reaction on Monday, May 10. Musk’s appearance could be a chance to promote the meme coin',\n",
       "  'POSITIVE',\n",
       "  0.9751201272010803,\n",
       "  'https://www.benzinga.com/markets/cryptocurrency/21/05/20827000/could-elon-musks-snl-hosting-cause-a-bump-in-tesla-or-dogecoin'],\n",
       " ['ETH',\n",
       "  'Ethereum touches an intraday low of $2,672.11 before hitting an all-time high. Dogecoin finds stability around the 30 cent mark',\n",
       "  'NEGATIVE',\n",
       "  0.8904660940170288,\n",
       "  'https://www.benzinga.com/markets/cryptocurrency/21/04/20881404/polygon-matic-hits-all-time-high-ethereum-retreats-and-dogecoin-finds-stability-since-musk'],\n",
       " ['ETH',\n",
       "  'Ethereum rallies to late morning high $2,800, settles short of first major resistance level.',\n",
       "  'NEGATIVE',\n",
       "  0.9969916343688965,\n",
       "  'https://finance.yahoo.com/news/ethereum-litecoin-ripple-xrp-daily-001639450.html'],\n",
       " ['ETH',\n",
       "  'Dogecoin is adding almost 50% to its price this week. Ethereum is up more than three-fold from the start of the year',\n",
       "  'POSITIVE',\n",
       "  0.9822368621826172,\n",
       "  'https://www.forbes.com/sites/billybambrough/2021/05/01/ethereum-is-suddenly-rocketing-but-dogecoin-is-still-the-crypto-price-king/'],\n",
       " ['ETH',\n",
       "  'BNB comes close to hitting an all-time high today, is up 20% from last week’s crash. BSC-based exchange transacted more than four DEXs on Ethereum',\n",
       "  'NEGATIVE',\n",
       "  0.9882952570915222,\n",
       "  'https://finance.yahoo.com/news/binance-smart-chain-defi-tvl-133100709.html'],\n",
       " ['ETH',\n",
       "  'Ethereum has been gaining ground in recent weeks.',\n",
       "  'POSITIVE',\n",
       "  0.9987367391586304,\n",
       "  'https://www.cnn.com/2021/05/01/investing/ethereum-bitcoin-record-high/index.html'],\n",
       " ['ETH',\n",
       "  'Ether hit record after EIB issues first digital bond. Bitcoin still dominates crypto market, but shares have fallen',\n",
       "  'NEGATIVE',\n",
       "  0.9977512955665588,\n",
       "  'https://www.cnbc.com/2021/04/29/bitcoin-btc-ethereum-eth-cryptocurrency-price-hits-record-high.html'],\n",
       " ['ETH',\n",
       "  'New GeForce 466.27 driver adds hashing limit for 3060 cards. Previously, Nvidia tried to limit mining performance on the card',\n",
       "  'NEGATIVE',\n",
       "  0.9923267960548401,\n",
       "  'https://www.theverge.com/2021/4/29/22409838/nvidia-rtx-3060-etherium-cryptocurrency-mining-limit-back-driver-update'],\n",
       " ['ETH',\n",
       "  'Ethereum is the second-largest cryptocurrency by market cap. Ether price has fluctuated greatly since 2015',\n",
       "  'NEGATIVE',\n",
       "  0.9682729244232178,\n",
       "  'https://finance.yahoo.com/news/ethereum-price-surge-know-decide-110011253.html'],\n",
       " ['ETH',\n",
       "  'Bitcoin’s price jumped over $4,600 within a 24-hour period. The last time bitcoin traded at this level was almost two weeks',\n",
       "  'NEGATIVE',\n",
       "  0.9958792924880981,\n",
       "  'https://www.coindesk.com/market-wrap-bitcoin-57k-expirations-ether-steadies'],\n",
       " ['ETH',\n",
       "  'FundStrat sets a $10K price target on the cryptocurrency. Ethereum is up about 40% for the month to date versus 5% decline for bitcoin',\n",
       "  'NEGATIVE',\n",
       "  0.9975712895393372,\n",
       "  'https://www.coindesk.com/ether-price-target-10k-fundstrat'],\n",
       " ['BTC',\n",
       "  'Check the anti-virus settings on your device.',\n",
       "  'NEGATIVE',\n",
       "  0.9931948781013489,\n",
       "  'https://cointelegraph.com/news/top-5-cryptocurrencies-to-watch-this-week-btc-sol-ht-etc-aave'],\n",
       " ['BTC',\n",
       "  'The 90-year-old ‘Oracle of Omaha’ called the cryptocurrency ‘disgusting’. Buffett says bringing up the currency is like ‘waving the red flag at the bull',\n",
       "  'NEGATIVE',\n",
       "  0.9989110827445984,\n",
       "  'https://finance.yahoo.com/news/buffett-and-munger-on-bitcoin-213317653.html'],\n",
       " ['BTC',\n",
       "  'Analytics platform CryptoQuant sees ‘massive’ Bitcoin transfers. Golden cross indicator hit a year low at the end of April',\n",
       "  'NEGATIVE',\n",
       "  0.9996077418327332,\n",
       "  'https://dailyhodl.com/2021/05/02/bitcoin-whale-behavior-shows-massive-btc-accumulation-above-50000-says-cryptoquant-ceo/'],\n",
       " ['BTC',\n",
       "  '\"I don\\'t welcome a currency that\\'s so useful to kidnappers and extortionists,\\'\" he says.',\n",
       "  'NEGATIVE',\n",
       "  0.992382287979126,\n",
       "  'https://www.cnbc.com/2021/05/01/charlie-munger-calls-bitcoin-disgusting-and-contrary-to-the-interests-of-civilization.html'],\n",
       " ['BTC',\n",
       "  'A look at some of the biggest winners and losers in the stock market this year.',\n",
       "  'POSITIVE',\n",
       "  0.999182403087616,\n",
       "  'https://fortune.com/2021/05/02/bitcoin-mining-hashrate-china-inner-mongolia-ban/'],\n",
       " ['BTC',\n",
       "  'Ethereum has been gaining ground in recent weeks.',\n",
       "  'POSITIVE',\n",
       "  0.9987367391586304,\n",
       "  'https://www.cnn.com/2021/05/01/investing/ethereum-bitcoin-record-high/index.html'],\n",
       " ['BTC',\n",
       "  'SEC delayed rendering decision on VanEck fund this week',\n",
       "  'NEGATIVE',\n",
       "  0.9902442097663879,\n",
       "  'https://markets.businessinsider.com/currencies/news/bitcoin-etf-sec-approval-us-launch-volatility-market-gensler-2021-4-1030374430'],\n",
       " ['BTC',\n",
       "  '‘Of course I hate the bitcoin success,’ Vice Chairman says. Buffett’s company has no exposure to cryptocurrency',\n",
       "  'NEGATIVE',\n",
       "  0.9996762871742249,\n",
       "  'https://www.marketwatch.com/story/berkshires-munger-bitcoin-rise-disgusting-and-contrary-to-interests-of-civilization-2021-05-01'],\n",
       " ['BTC',\n",
       "  'This is part 3 of a 12-part series. All quotes inspired by Satoshi Nakamoto',\n",
       "  'POSITIVE',\n",
       "  0.6437949538230896,\n",
       "  'https://bitcoinmagazine.com/culture/bitcoin-illuminates-inflation-prices'],\n",
       " ['BTC',\n",
       "  'FundStrat sets a $10K price target on the cryptocurrency. Ethereum is up about 40% for the month to date versus 5% decline for bitcoin',\n",
       "  'NEGATIVE',\n",
       "  0.9975712895393372,\n",
       "  'https://www.coindesk.com/ether-price-target-10k-fundstrat']]"
      ]
     },
     "execution_count": 61,
     "metadata": {},
     "output_type": "execute_result"
    }
   ],
   "source": [
    "final_output"
   ]
  },
  {
   "cell_type": "code",
   "execution_count": 62,
   "metadata": {},
   "outputs": [],
   "source": [
    "import csv\n",
    "with open('assetsummaries.csv', mode='w', newline='') as f:\n",
    "    csv_writer = csv.writer(f, delimiter=',', quotechar='\"', quoting=csv.QUOTE_MINIMAL)\n",
    "    csv_writer.writerows(final_output)"
   ]
  },
  {
   "cell_type": "code",
   "execution_count": null,
   "metadata": {},
   "outputs": [],
   "source": []
  },
  {
   "cell_type": "code",
   "execution_count": null,
   "metadata": {},
   "outputs": [],
   "source": []
  },
  {
   "cell_type": "code",
   "execution_count": null,
   "metadata": {},
   "outputs": [],
   "source": []
  }
 ],
 "metadata": {
  "kernelspec": {
   "display_name": "Python 3",
   "language": "python",
   "name": "python3"
  },
  "language_info": {
   "codemirror_mode": {
    "name": "ipython",
    "version": 3
   },
   "file_extension": ".py",
   "mimetype": "text/x-python",
   "name": "python",
   "nbconvert_exporter": "python",
   "pygments_lexer": "ipython3",
   "version": "3.8.5"
  }
 },
 "nbformat": 4,
 "nbformat_minor": 2
}
